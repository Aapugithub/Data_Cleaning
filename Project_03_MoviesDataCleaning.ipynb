{
 "cells": [
  {
   "cell_type": "markdown",
   "metadata": {},
   "source": [
    "# Project : Data Cleaning - Tidy up messy Datasets (Movies Dataset)"
   ]
  },
  {
   "cell_type": "markdown",
   "metadata": {},
   "source": [
    "From Alexander Hagmann's course \"Work with Pandas, SQL Databases, JSON, Web APIs & more to master your real-world Machine Learning & Finance Projects\" on Udemy.\n",
    "\n",
    "## First Steps "
   ]
  },
  {
   "cell_type": "markdown",
   "metadata": {},
   "source": [
    "1. __Load__ and __inspect__ the messy dataset __movies_metadata.csv__. Identify columns with nested / stringified json data."
   ]
  },
  {
   "cell_type": "code",
   "execution_count": 488,
   "metadata": {},
   "outputs": [],
   "source": [
    "import numpy as np\n",
    "import pandas as pd\n",
    "pd.options.display.max_columns=30"
   ]
  },
  {
   "cell_type": "code",
   "execution_count": 489,
   "metadata": {},
   "outputs": [],
   "source": [
    "data=pd.read_csv(\"movies_metadata.csv\",low_memory=False)"
   ]
  },
  {
   "cell_type": "code",
   "execution_count": 490,
   "metadata": {},
   "outputs": [
    {
     "data": {
      "text/html": [
       "<div>\n",
       "<style scoped>\n",
       "    .dataframe tbody tr th:only-of-type {\n",
       "        vertical-align: middle;\n",
       "    }\n",
       "\n",
       "    .dataframe tbody tr th {\n",
       "        vertical-align: top;\n",
       "    }\n",
       "\n",
       "    .dataframe thead th {\n",
       "        text-align: right;\n",
       "    }\n",
       "</style>\n",
       "<table border=\"1\" class=\"dataframe\">\n",
       "  <thead>\n",
       "    <tr style=\"text-align: right;\">\n",
       "      <th></th>\n",
       "      <th>adult</th>\n",
       "      <th>belongs_to_collection</th>\n",
       "      <th>budget</th>\n",
       "      <th>genres</th>\n",
       "      <th>homepage</th>\n",
       "      <th>id</th>\n",
       "      <th>imdb_id</th>\n",
       "      <th>original_language</th>\n",
       "      <th>original_title</th>\n",
       "      <th>overview</th>\n",
       "      <th>popularity</th>\n",
       "      <th>poster_path</th>\n",
       "      <th>production_companies</th>\n",
       "      <th>production_countries</th>\n",
       "      <th>release_date</th>\n",
       "      <th>revenue</th>\n",
       "      <th>runtime</th>\n",
       "      <th>spoken_languages</th>\n",
       "      <th>status</th>\n",
       "      <th>tagline</th>\n",
       "      <th>title</th>\n",
       "      <th>video</th>\n",
       "      <th>vote_average</th>\n",
       "      <th>vote_count</th>\n",
       "    </tr>\n",
       "  </thead>\n",
       "  <tbody>\n",
       "    <tr>\n",
       "      <th>0</th>\n",
       "      <td>False</td>\n",
       "      <td>{'id': 10194, 'name': 'Toy Story Collection', ...</td>\n",
       "      <td>30000000</td>\n",
       "      <td>[{'id': 16, 'name': 'Animation'}, {'id': 35, '...</td>\n",
       "      <td>http://toystory.disney.com/toy-story</td>\n",
       "      <td>862</td>\n",
       "      <td>tt0114709</td>\n",
       "      <td>en</td>\n",
       "      <td>Toy Story</td>\n",
       "      <td>Led by Woody, Andy's toys live happily in his ...</td>\n",
       "      <td>21.946943</td>\n",
       "      <td>/rhIRbceoE9lR4veEXuwCC2wARtG.jpg</td>\n",
       "      <td>[{'name': 'Pixar Animation Studios', 'id': 3}]</td>\n",
       "      <td>[{'iso_3166_1': 'US', 'name': 'United States o...</td>\n",
       "      <td>1995-10-30</td>\n",
       "      <td>373554033.0</td>\n",
       "      <td>81.0</td>\n",
       "      <td>[{'iso_639_1': 'en', 'name': 'English'}]</td>\n",
       "      <td>Released</td>\n",
       "      <td>NaN</td>\n",
       "      <td>Toy Story</td>\n",
       "      <td>False</td>\n",
       "      <td>7.7</td>\n",
       "      <td>5415.0</td>\n",
       "    </tr>\n",
       "    <tr>\n",
       "      <th>1</th>\n",
       "      <td>False</td>\n",
       "      <td>NaN</td>\n",
       "      <td>65000000</td>\n",
       "      <td>[{'id': 12, 'name': 'Adventure'}, {'id': 14, '...</td>\n",
       "      <td>NaN</td>\n",
       "      <td>8844</td>\n",
       "      <td>tt0113497</td>\n",
       "      <td>en</td>\n",
       "      <td>Jumanji</td>\n",
       "      <td>When siblings Judy and Peter discover an encha...</td>\n",
       "      <td>17.015539</td>\n",
       "      <td>/vzmL6fP7aPKNKPRTFnZmiUfciyV.jpg</td>\n",
       "      <td>[{'name': 'TriStar Pictures', 'id': 559}, {'na...</td>\n",
       "      <td>[{'iso_3166_1': 'US', 'name': 'United States o...</td>\n",
       "      <td>1995-12-15</td>\n",
       "      <td>262797249.0</td>\n",
       "      <td>104.0</td>\n",
       "      <td>[{'iso_639_1': 'en', 'name': 'English'}, {'iso...</td>\n",
       "      <td>Released</td>\n",
       "      <td>Roll the dice and unleash the excitement!</td>\n",
       "      <td>Jumanji</td>\n",
       "      <td>False</td>\n",
       "      <td>6.9</td>\n",
       "      <td>2413.0</td>\n",
       "    </tr>\n",
       "  </tbody>\n",
       "</table>\n",
       "</div>"
      ],
      "text/plain": [
       "   adult                              belongs_to_collection    budget  \\\n",
       "0  False  {'id': 10194, 'name': 'Toy Story Collection', ...  30000000   \n",
       "1  False                                                NaN  65000000   \n",
       "\n",
       "                                              genres  \\\n",
       "0  [{'id': 16, 'name': 'Animation'}, {'id': 35, '...   \n",
       "1  [{'id': 12, 'name': 'Adventure'}, {'id': 14, '...   \n",
       "\n",
       "                               homepage    id    imdb_id original_language  \\\n",
       "0  http://toystory.disney.com/toy-story   862  tt0114709                en   \n",
       "1                                   NaN  8844  tt0113497                en   \n",
       "\n",
       "  original_title                                           overview  \\\n",
       "0      Toy Story  Led by Woody, Andy's toys live happily in his ...   \n",
       "1        Jumanji  When siblings Judy and Peter discover an encha...   \n",
       "\n",
       "  popularity                       poster_path  \\\n",
       "0  21.946943  /rhIRbceoE9lR4veEXuwCC2wARtG.jpg   \n",
       "1  17.015539  /vzmL6fP7aPKNKPRTFnZmiUfciyV.jpg   \n",
       "\n",
       "                                production_companies  \\\n",
       "0     [{'name': 'Pixar Animation Studios', 'id': 3}]   \n",
       "1  [{'name': 'TriStar Pictures', 'id': 559}, {'na...   \n",
       "\n",
       "                                production_countries release_date  \\\n",
       "0  [{'iso_3166_1': 'US', 'name': 'United States o...   1995-10-30   \n",
       "1  [{'iso_3166_1': 'US', 'name': 'United States o...   1995-12-15   \n",
       "\n",
       "       revenue  runtime                                   spoken_languages  \\\n",
       "0  373554033.0     81.0           [{'iso_639_1': 'en', 'name': 'English'}]   \n",
       "1  262797249.0    104.0  [{'iso_639_1': 'en', 'name': 'English'}, {'iso...   \n",
       "\n",
       "     status                                    tagline      title  video  \\\n",
       "0  Released                                        NaN  Toy Story  False   \n",
       "1  Released  Roll the dice and unleash the excitement!    Jumanji  False   \n",
       "\n",
       "   vote_average  vote_count  \n",
       "0           7.7      5415.0  \n",
       "1           6.9      2413.0  "
      ]
     },
     "execution_count": 490,
     "metadata": {},
     "output_type": "execute_result"
    }
   ],
   "source": [
    "data.head(2)"
   ]
  },
  {
   "cell_type": "markdown",
   "metadata": {},
   "source": [
    "- Nested/stringified columns are :  [\"belongs_to_collection\",\"genres\",\"production_companies\",\"production_countries\",\"spoken_languages\"]"
   ]
  },
  {
   "cell_type": "code",
   "execution_count": 491,
   "metadata": {},
   "outputs": [],
   "source": [
    "nested_cols = [\"belongs_to_collection\",\"genres\",\"production_companies\",\"production_countries\",\"spoken_languages\"]"
   ]
  },
  {
   "cell_type": "code",
   "execution_count": 492,
   "metadata": {},
   "outputs": [
    {
     "data": {
      "text/plain": [
       "float"
      ]
     },
     "execution_count": 492,
     "metadata": {},
     "output_type": "execute_result"
    }
   ],
   "source": [
    "type(data[nested_cols[0]][45464])"
   ]
  },
  {
   "cell_type": "code",
   "execution_count": null,
   "metadata": {},
   "outputs": [],
   "source": []
  },
  {
   "cell_type": "markdown",
   "metadata": {},
   "source": [
    "## Dropping irrelevant Columns"
   ]
  },
  {
   "cell_type": "markdown",
   "metadata": {},
   "source": [
    "2. __Drop__ the irrelevant columns 'adult', 'imdb_id', 'original_title', 'video' and 'homepage'."
   ]
  },
  {
   "cell_type": "code",
   "execution_count": 493,
   "metadata": {},
   "outputs": [
    {
     "data": {
      "text/plain": [
       "False                                                                                                                             45454\n",
       "True                                                                                                                                  9\n",
       " - Written by Ørnås                                                                                                                   1\n",
       " Rune Balot goes to a casino connected to the October corporation to try to wrap up her case once and for all.                        1\n",
       " Avalanche Sharks tells the story of a bikini contest that turns into a horrifying affair when it is hit by a shark avalanche.        1\n",
       "Name: adult, dtype: int64"
      ]
     },
     "execution_count": 493,
     "metadata": {},
     "output_type": "execute_result"
    }
   ],
   "source": [
    "data.adult.value_counts()"
   ]
  },
  {
   "cell_type": "code",
   "execution_count": 494,
   "metadata": {},
   "outputs": [],
   "source": [
    "data.drop(columns=['adult', 'imdb_id', 'original_title', 'video','homepage'],inplace=True)"
   ]
  },
  {
   "cell_type": "code",
   "execution_count": 495,
   "metadata": {},
   "outputs": [],
   "source": [
    "data_old = data.copy()"
   ]
  },
  {
   "cell_type": "markdown",
   "metadata": {},
   "source": [
    "## How to handle stringified JSON columns"
   ]
  },
  {
   "cell_type": "markdown",
   "metadata": {},
   "source": [
    "3. __Evaluate__ Python Expressions in the stringified columns [\"belongs_to_collection\", \"genres\", \"production_countries\", \"production_companies\", \"spoken_languages\"] and __remove quotes__ (\"\") where possible."
   ]
  },
  {
   "cell_type": "code",
   "execution_count": 496,
   "metadata": {},
   "outputs": [],
   "source": [
    "import json,ast"
   ]
  },
  {
   "cell_type": "code",
   "execution_count": 497,
   "metadata": {},
   "outputs": [
    {
     "data": {
      "text/plain": [
       "\"{'id': 10194, 'name': 'Toy Story Collection', 'poster_path': '/7G9915LfUQ2lVfwMEEhDsn3kT4B.jpg', 'backdrop_path': '/9FBwqcd9IRruEDUrTdcaafOMKUq.jpg'}\""
      ]
     },
     "execution_count": 497,
     "metadata": {},
     "output_type": "execute_result"
    }
   ],
   "source": [
    "data.belongs_to_collection[0]"
   ]
  },
  {
   "cell_type": "code",
   "execution_count": 498,
   "metadata": {},
   "outputs": [],
   "source": [
    "json1=\"{'cat':3,'dog':5}\""
   ]
  },
  {
   "cell_type": "code",
   "execution_count": 499,
   "metadata": {},
   "outputs": [],
   "source": [
    "# #error\n",
    "# json.loads(json1)"
   ]
  },
  {
   "cell_type": "code",
   "execution_count": 500,
   "metadata": {},
   "outputs": [
    {
     "data": {
      "text/plain": [
       "{'cat': 3, 'dog': 5}"
      ]
     },
     "execution_count": 500,
     "metadata": {},
     "output_type": "execute_result"
    }
   ],
   "source": [
    "json2='{\"cat\":3,\"dog\":5}'\n",
    "json.loads(json2)"
   ]
  },
  {
   "cell_type": "code",
   "execution_count": 501,
   "metadata": {},
   "outputs": [
    {
     "data": {
      "text/plain": [
       "\"{'cat':3,'dog':5}\""
      ]
     },
     "execution_count": 501,
     "metadata": {},
     "output_type": "execute_result"
    }
   ],
   "source": [
    "json1"
   ]
  },
  {
   "cell_type": "code",
   "execution_count": 502,
   "metadata": {},
   "outputs": [
    {
     "data": {
      "text/plain": [
       "'{\"cat\":3,\"dog\":5}'"
      ]
     },
     "execution_count": 502,
     "metadata": {},
     "output_type": "execute_result"
    }
   ],
   "source": [
    "json1.replace(\"'\",'\"')"
   ]
  },
  {
   "cell_type": "code",
   "execution_count": 503,
   "metadata": {},
   "outputs": [
    {
     "data": {
      "text/plain": [
       "{'cat': 3, 'dog': 5}"
      ]
     },
     "execution_count": 503,
     "metadata": {},
     "output_type": "execute_result"
    }
   ],
   "source": [
    "json.loads(json1.replace(\"'\",'\"'))"
   ]
  },
  {
   "cell_type": "code",
   "execution_count": 504,
   "metadata": {},
   "outputs": [],
   "source": [
    "tst= data.genres.apply(lambda x: json.loads(x.replace(\"'\",'\"')) )"
   ]
  },
  {
   "cell_type": "code",
   "execution_count": 505,
   "metadata": {},
   "outputs": [
    {
     "data": {
      "text/plain": [
       "[{'id': 16, 'name': 'Animation'},\n",
       " {'id': 35, 'name': 'Comedy'},\n",
       " {'id': 10751, 'name': 'Family'}]"
      ]
     },
     "execution_count": 505,
     "metadata": {},
     "output_type": "execute_result"
    }
   ],
   "source": [
    "tst[0]"
   ]
  },
  {
   "cell_type": "markdown",
   "metadata": {},
   "source": [
    "**There is a better approach using abstract syntax tree i.e. ast**"
   ]
  },
  {
   "cell_type": "code",
   "execution_count": 506,
   "metadata": {},
   "outputs": [
    {
     "data": {
      "text/plain": [
       "({'cat': 3, 'dog': 5}, {'cat': 3, 'dog': 5})"
      ]
     },
     "execution_count": 506,
     "metadata": {},
     "output_type": "execute_result"
    }
   ],
   "source": [
    "ast.literal_eval(json1), ast.literal_eval(json2)"
   ]
  },
  {
   "cell_type": "code",
   "execution_count": 507,
   "metadata": {},
   "outputs": [
    {
     "data": {
      "text/plain": [
       "[{'id': 16, 'name': 'Animation'},\n",
       " {'id': 35, 'name': 'Comedy'},\n",
       " {'id': 10751, 'name': 'Family'}]"
      ]
     },
     "execution_count": 507,
     "metadata": {},
     "output_type": "execute_result"
    }
   ],
   "source": [
    "data.genres.apply(eval)[0]"
   ]
  },
  {
   "cell_type": "code",
   "execution_count": 508,
   "metadata": {},
   "outputs": [],
   "source": [
    "data.genres = data.genres.apply(ast.literal_eval)"
   ]
  },
  {
   "cell_type": "code",
   "execution_count": 509,
   "metadata": {},
   "outputs": [
    {
     "data": {
      "text/plain": [
       "[{'id': 16, 'name': 'Animation'},\n",
       " {'id': 35, 'name': 'Comedy'},\n",
       " {'id': 10751, 'name': 'Family'}]"
      ]
     },
     "execution_count": 509,
     "metadata": {},
     "output_type": "execute_result"
    }
   ],
   "source": [
    "data.genres[0]"
   ]
  },
  {
   "cell_type": "code",
   "execution_count": 510,
   "metadata": {},
   "outputs": [],
   "source": [
    "# #error\n",
    "# data.belongs_to_collection.apply(ast.literal_eval)"
   ]
  },
  {
   "cell_type": "code",
   "execution_count": 511,
   "metadata": {},
   "outputs": [],
   "source": [
    "# def unstring_mixdata(value):\n",
    "#     if isinstance(value,str):\n",
    "#         return eval(value)\n",
    "#     else:\n",
    "#         return np.nan\n",
    "\n",
    "# data.belongs_to_collection.apply(unstring_mixdata)[0]"
   ]
  },
  {
   "cell_type": "code",
   "execution_count": 512,
   "metadata": {},
   "outputs": [
    {
     "data": {
      "text/plain": [
       "['belongs_to_collection',\n",
       " 'genres',\n",
       " 'production_companies',\n",
       " 'production_countries',\n",
       " 'spoken_languages']"
      ]
     },
     "execution_count": 512,
     "metadata": {},
     "output_type": "execute_result"
    }
   ],
   "source": [
    "nested_cols"
   ]
  },
  {
   "cell_type": "code",
   "execution_count": 513,
   "metadata": {},
   "outputs": [],
   "source": [
    "data.belongs_to_collection = data.belongs_to_collection.apply(lambda x : ast.literal_eval(x) if isinstance(x,str) else np.nan )"
   ]
  },
  {
   "cell_type": "code",
   "execution_count": 514,
   "metadata": {},
   "outputs": [
    {
     "data": {
      "text/plain": [
       "{'id': 10194,\n",
       " 'name': 'Toy Story Collection',\n",
       " 'poster_path': '/7G9915LfUQ2lVfwMEEhDsn3kT4B.jpg',\n",
       " 'backdrop_path': '/9FBwqcd9IRruEDUrTdcaafOMKUq.jpg'}"
      ]
     },
     "execution_count": 514,
     "metadata": {},
     "output_type": "execute_result"
    }
   ],
   "source": [
    "data.belongs_to_collection[0]"
   ]
  },
  {
   "cell_type": "code",
   "execution_count": 515,
   "metadata": {},
   "outputs": [],
   "source": [
    "data.production_companies = data.production_companies.apply(lambda x : ast.literal_eval(x) if isinstance(x,str) else np.nan )"
   ]
  },
  {
   "cell_type": "code",
   "execution_count": 516,
   "metadata": {},
   "outputs": [],
   "source": [
    "data.production_countries = data.production_countries.apply(lambda x : ast.literal_eval(x) if isinstance(x,str) else np.nan )"
   ]
  },
  {
   "cell_type": "code",
   "execution_count": 517,
   "metadata": {},
   "outputs": [],
   "source": [
    "data.spoken_languages = data.spoken_languages.apply(lambda x : ast.literal_eval(x) if isinstance(x,str) else np.nan )"
   ]
  },
  {
   "cell_type": "code",
   "execution_count": 518,
   "metadata": {
    "scrolled": false
   },
   "outputs": [
    {
     "data": {
      "text/html": [
       "<div>\n",
       "<style scoped>\n",
       "    .dataframe tbody tr th:only-of-type {\n",
       "        vertical-align: middle;\n",
       "    }\n",
       "\n",
       "    .dataframe tbody tr th {\n",
       "        vertical-align: top;\n",
       "    }\n",
       "\n",
       "    .dataframe thead th {\n",
       "        text-align: right;\n",
       "    }\n",
       "</style>\n",
       "<table border=\"1\" class=\"dataframe\">\n",
       "  <thead>\n",
       "    <tr style=\"text-align: right;\">\n",
       "      <th></th>\n",
       "      <th>belongs_to_collection</th>\n",
       "      <th>budget</th>\n",
       "      <th>genres</th>\n",
       "      <th>id</th>\n",
       "      <th>original_language</th>\n",
       "      <th>overview</th>\n",
       "      <th>popularity</th>\n",
       "      <th>poster_path</th>\n",
       "      <th>production_companies</th>\n",
       "      <th>production_countries</th>\n",
       "      <th>release_date</th>\n",
       "      <th>revenue</th>\n",
       "      <th>runtime</th>\n",
       "      <th>spoken_languages</th>\n",
       "      <th>status</th>\n",
       "      <th>tagline</th>\n",
       "      <th>title</th>\n",
       "      <th>vote_average</th>\n",
       "      <th>vote_count</th>\n",
       "    </tr>\n",
       "  </thead>\n",
       "  <tbody>\n",
       "    <tr>\n",
       "      <th>0</th>\n",
       "      <td>{'id': 10194, 'name': 'Toy Story Collection', ...</td>\n",
       "      <td>30000000</td>\n",
       "      <td>[{'id': 16, 'name': 'Animation'}, {'id': 35, '...</td>\n",
       "      <td>862</td>\n",
       "      <td>en</td>\n",
       "      <td>Led by Woody, Andy's toys live happily in his ...</td>\n",
       "      <td>21.946943</td>\n",
       "      <td>/rhIRbceoE9lR4veEXuwCC2wARtG.jpg</td>\n",
       "      <td>[{'name': 'Pixar Animation Studios', 'id': 3}]</td>\n",
       "      <td>[{'iso_3166_1': 'US', 'name': 'United States o...</td>\n",
       "      <td>1995-10-30</td>\n",
       "      <td>373554033.0</td>\n",
       "      <td>81.0</td>\n",
       "      <td>[{'iso_639_1': 'en', 'name': 'English'}]</td>\n",
       "      <td>Released</td>\n",
       "      <td>NaN</td>\n",
       "      <td>Toy Story</td>\n",
       "      <td>7.7</td>\n",
       "      <td>5415.0</td>\n",
       "    </tr>\n",
       "    <tr>\n",
       "      <th>1</th>\n",
       "      <td>NaN</td>\n",
       "      <td>65000000</td>\n",
       "      <td>[{'id': 12, 'name': 'Adventure'}, {'id': 14, '...</td>\n",
       "      <td>8844</td>\n",
       "      <td>en</td>\n",
       "      <td>When siblings Judy and Peter discover an encha...</td>\n",
       "      <td>17.015539</td>\n",
       "      <td>/vzmL6fP7aPKNKPRTFnZmiUfciyV.jpg</td>\n",
       "      <td>[{'name': 'TriStar Pictures', 'id': 559}, {'na...</td>\n",
       "      <td>[{'iso_3166_1': 'US', 'name': 'United States o...</td>\n",
       "      <td>1995-12-15</td>\n",
       "      <td>262797249.0</td>\n",
       "      <td>104.0</td>\n",
       "      <td>[{'iso_639_1': 'en', 'name': 'English'}, {'iso...</td>\n",
       "      <td>Released</td>\n",
       "      <td>Roll the dice and unleash the excitement!</td>\n",
       "      <td>Jumanji</td>\n",
       "      <td>6.9</td>\n",
       "      <td>2413.0</td>\n",
       "    </tr>\n",
       "  </tbody>\n",
       "</table>\n",
       "</div>"
      ],
      "text/plain": [
       "                               belongs_to_collection    budget  \\\n",
       "0  {'id': 10194, 'name': 'Toy Story Collection', ...  30000000   \n",
       "1                                                NaN  65000000   \n",
       "\n",
       "                                              genres    id original_language  \\\n",
       "0  [{'id': 16, 'name': 'Animation'}, {'id': 35, '...   862                en   \n",
       "1  [{'id': 12, 'name': 'Adventure'}, {'id': 14, '...  8844                en   \n",
       "\n",
       "                                            overview popularity  \\\n",
       "0  Led by Woody, Andy's toys live happily in his ...  21.946943   \n",
       "1  When siblings Judy and Peter discover an encha...  17.015539   \n",
       "\n",
       "                        poster_path  \\\n",
       "0  /rhIRbceoE9lR4veEXuwCC2wARtG.jpg   \n",
       "1  /vzmL6fP7aPKNKPRTFnZmiUfciyV.jpg   \n",
       "\n",
       "                                production_companies  \\\n",
       "0     [{'name': 'Pixar Animation Studios', 'id': 3}]   \n",
       "1  [{'name': 'TriStar Pictures', 'id': 559}, {'na...   \n",
       "\n",
       "                                production_countries release_date  \\\n",
       "0  [{'iso_3166_1': 'US', 'name': 'United States o...   1995-10-30   \n",
       "1  [{'iso_3166_1': 'US', 'name': 'United States o...   1995-12-15   \n",
       "\n",
       "       revenue  runtime                                   spoken_languages  \\\n",
       "0  373554033.0     81.0           [{'iso_639_1': 'en', 'name': 'English'}]   \n",
       "1  262797249.0    104.0  [{'iso_639_1': 'en', 'name': 'English'}, {'iso...   \n",
       "\n",
       "     status                                    tagline      title  \\\n",
       "0  Released                                        NaN  Toy Story   \n",
       "1  Released  Roll the dice and unleash the excitement!    Jumanji   \n",
       "\n",
       "   vote_average  vote_count  \n",
       "0           7.7      5415.0  \n",
       "1           6.9      2413.0  "
      ]
     },
     "execution_count": 518,
     "metadata": {},
     "output_type": "execute_result"
    }
   ],
   "source": [
    "data.head(2)"
   ]
  },
  {
   "cell_type": "markdown",
   "metadata": {},
   "source": [
    "## How to flatten nested Columns"
   ]
  },
  {
   "cell_type": "markdown",
   "metadata": {},
   "source": [
    "4. __Extract__ only the __collection name__ from the column \"belongs_to_collection\" and __overwrite__ \"belongs_to_collection\". <br> For example: The value in the first row (Toy Story) should be 'Toy Story Collection'."
   ]
  },
  {
   "cell_type": "code",
   "execution_count": 519,
   "metadata": {},
   "outputs": [
    {
     "data": {
      "text/plain": [
       "{'id': 10194,\n",
       " 'name': 'Toy Story Collection',\n",
       " 'poster_path': '/7G9915LfUQ2lVfwMEEhDsn3kT4B.jpg',\n",
       " 'backdrop_path': '/9FBwqcd9IRruEDUrTdcaafOMKUq.jpg'}"
      ]
     },
     "execution_count": 519,
     "metadata": {},
     "output_type": "execute_result"
    }
   ],
   "source": [
    "data.belongs_to_collection[0]"
   ]
  },
  {
   "cell_type": "code",
   "execution_count": 520,
   "metadata": {},
   "outputs": [],
   "source": [
    "data.belongs_to_collection = data.belongs_to_collection.apply(lambda x : x[\"name\"] if isinstance(x,dict) else np.nan)"
   ]
  },
  {
   "cell_type": "code",
   "execution_count": 521,
   "metadata": {},
   "outputs": [
    {
     "data": {
      "text/plain": [
       "NaN                              40975\n",
       "The Bowery Boys                     29\n",
       "Totò Collection                     27\n",
       "James Bond Collection               26\n",
       "Zatôichi: The Blind Swordsman       26\n",
       "                                 ...  \n",
       "Glass Tiger collection               1\n",
       "Kathleen Madigan Collection          1\n",
       "The Big Bottom Box                   1\n",
       "Joséphine - Saga                     1\n",
       "Red Lotus Collection                 1\n",
       "Name: belongs_to_collection, Length: 1696, dtype: int64"
      ]
     },
     "execution_count": 521,
     "metadata": {},
     "output_type": "execute_result"
    }
   ],
   "source": [
    "data.belongs_to_collection.value_counts(dropna=False)"
   ]
  },
  {
   "cell_type": "markdown",
   "metadata": {},
   "source": [
    "5. __Extract__ all __genre names__ from the column \"genres\" and __overwrite__ \"genres\". If a movie has more than one genre, __seperate genres by a pipe__ \"|\".<br>\n",
    "For example: The value in the first row (Toy Story) should be 'Animation|Comedy|Family'."
   ]
  },
  {
   "cell_type": "code",
   "execution_count": 522,
   "metadata": {},
   "outputs": [
    {
     "data": {
      "text/plain": [
       "0        [{'id': 16, 'name': 'Animation'}, {'id': 35, '...\n",
       "1        [{'id': 12, 'name': 'Adventure'}, {'id': 14, '...\n",
       "2        [{'id': 10749, 'name': 'Romance'}, {'id': 35, ...\n",
       "3        [{'id': 35, 'name': 'Comedy'}, {'id': 18, 'nam...\n",
       "4                           [{'id': 35, 'name': 'Comedy'}]\n",
       "                               ...                        \n",
       "45461    [{'id': 18, 'name': 'Drama'}, {'id': 10751, 'n...\n",
       "45462                        [{'id': 18, 'name': 'Drama'}]\n",
       "45463    [{'id': 28, 'name': 'Action'}, {'id': 18, 'nam...\n",
       "45464                                                   []\n",
       "45465                                                   []\n",
       "Name: genres, Length: 45466, dtype: object"
      ]
     },
     "execution_count": 522,
     "metadata": {},
     "output_type": "execute_result"
    }
   ],
   "source": [
    "data.genres"
   ]
  },
  {
   "cell_type": "code",
   "execution_count": 523,
   "metadata": {},
   "outputs": [
    {
     "data": {
      "text/plain": [
       "[]"
      ]
     },
     "execution_count": 523,
     "metadata": {},
     "output_type": "execute_result"
    }
   ],
   "source": [
    "data.genres[45464]#[\"name\"]"
   ]
  },
  {
   "cell_type": "code",
   "execution_count": 524,
   "metadata": {},
   "outputs": [],
   "source": [
    "# def get_genre(lst):\n",
    "#     names = []\n",
    "#     for x in lst:\n",
    "#         names.append(x[\"name\"]) \n",
    "#     return \"|\".join(names)    "
   ]
  },
  {
   "cell_type": "code",
   "execution_count": 525,
   "metadata": {},
   "outputs": [],
   "source": [
    "# def get_name(lst):\n",
    "#     names = []\n",
    "#     try:\n",
    "#         if(len(lst)!=0):\n",
    "#             for x in lst:\n",
    "#                 names.append(x[\"name\"])             \n",
    "#             return \"|\".join(names)   \n",
    "#         else:\n",
    "#             return np.nan\n",
    "#     except:\n",
    "#         #print(\"The error is \",e)\n",
    "#         print(\"The input is \",lst)\n",
    "#         return np.nan"
   ]
  },
  {
   "cell_type": "code",
   "execution_count": 526,
   "metadata": {},
   "outputs": [
    {
     "data": {
      "text/plain": [
       "[]"
      ]
     },
     "execution_count": 526,
     "metadata": {},
     "output_type": "execute_result"
    }
   ],
   "source": [
    "data.genres[45464]"
   ]
  },
  {
   "cell_type": "code",
   "execution_count": 527,
   "metadata": {},
   "outputs": [],
   "source": [
    "data.genres = data.genres.apply(lambda x:\"|\".join(val[\"name\"] for val in x) if isinstance(x,list) else np.nan)"
   ]
  },
  {
   "cell_type": "code",
   "execution_count": 528,
   "metadata": {},
   "outputs": [
    {
     "data": {
      "text/plain": [
       "Drama                              5000\n",
       "Comedy                             3621\n",
       "Documentary                        2723\n",
       "                                   2442\n",
       "Drama|Romance                      1301\n",
       "                                   ... \n",
       "Action|Drama|Comedy|Documentary       1\n",
       "War|Drama|History|Thriller            1\n",
       "Horror|Drama|History|Thriller         1\n",
       "Comedy|Crime|Action|Drama             1\n",
       "Family|Animation|Romance|Comedy       1\n",
       "Name: genres, Length: 4069, dtype: int64"
      ]
     },
     "execution_count": 528,
     "metadata": {},
     "output_type": "execute_result"
    }
   ],
   "source": [
    "data.genres.value_counts(dropna=False)"
   ]
  },
  {
   "cell_type": "code",
   "execution_count": 529,
   "metadata": {},
   "outputs": [],
   "source": [
    "data.genres.replace(\"\",np.nan,inplace=True)"
   ]
  },
  {
   "cell_type": "code",
   "execution_count": 530,
   "metadata": {},
   "outputs": [
    {
     "data": {
      "text/plain": [
       "Drama                              5000\n",
       "Comedy                             3621\n",
       "Documentary                        2723\n",
       "NaN                                2442\n",
       "Drama|Romance                      1301\n",
       "                                   ... \n",
       "Action|Drama|Comedy|Documentary       1\n",
       "War|Drama|History|Thriller            1\n",
       "Horror|Drama|History|Thriller         1\n",
       "Comedy|Crime|Action|Drama             1\n",
       "Family|Animation|Romance|Comedy       1\n",
       "Name: genres, Length: 4069, dtype: int64"
      ]
     },
     "execution_count": 530,
     "metadata": {},
     "output_type": "execute_result"
    }
   ],
   "source": [
    "data.genres.value_counts(dropna=False)"
   ]
  },
  {
   "cell_type": "markdown",
   "metadata": {},
   "source": [
    "6. __Extract__ all __spoken language names__ from the column \"spoken_languages\" and __overwrite__ \"spoken_languages\". If a movie has more than one spoken language, __seperate spoken languages by a pipe__ \"|\".<br>\n",
    "For example: The value in the first row (Toy Story) should be 'English'."
   ]
  },
  {
   "cell_type": "code",
   "execution_count": 531,
   "metadata": {},
   "outputs": [
    {
     "data": {
      "text/plain": [
       "[{'iso_639_1': 'en', 'name': 'English'}]"
      ]
     },
     "execution_count": 531,
     "metadata": {},
     "output_type": "execute_result"
    }
   ],
   "source": [
    "data.spoken_languages[0]"
   ]
  },
  {
   "cell_type": "code",
   "execution_count": 532,
   "metadata": {},
   "outputs": [],
   "source": [
    "data.spoken_languages = data.spoken_languages.apply(lambda x: \"|\".join(val[\"name\"] for val in x)\n",
    "                            if isinstance(x,list) else np.nan )"
   ]
  },
  {
   "cell_type": "code",
   "execution_count": 533,
   "metadata": {},
   "outputs": [],
   "source": [
    "data.spoken_languages.replace(\"\",np.nan,inplace=True)"
   ]
  },
  {
   "cell_type": "code",
   "execution_count": 534,
   "metadata": {},
   "outputs": [
    {
     "data": {
      "text/plain": [
       "English                           22395\n",
       "NaN                                3958\n",
       "Français                           1853\n",
       "日本語                                1289\n",
       "Italiano                           1218\n",
       "                                  ...  \n",
       "Deutsch||ελληνικά|English             1\n",
       "English|suomi|Deutsch|svenska         1\n",
       "English|Français|Deutsch|فارسی        1\n",
       "svenska|English|Español               1\n",
       "Fulfulde|English                      1\n",
       "Name: spoken_languages, Length: 1842, dtype: int64"
      ]
     },
     "execution_count": 534,
     "metadata": {},
     "output_type": "execute_result"
    }
   ],
   "source": [
    "data.spoken_languages.value_counts(dropna=False)"
   ]
  },
  {
   "cell_type": "markdown",
   "metadata": {},
   "source": [
    "7. __Extract__ all __production countries names__ from the column \"production_countries\" and __overwrite__ \"production_countries\". If a movie has more than one production country, __seperate production countries by a pipe__ \"|\".<br>\n",
    "For example: The value in the first row (Toy Story) should be 'United States of America'."
   ]
  },
  {
   "cell_type": "code",
   "execution_count": 535,
   "metadata": {},
   "outputs": [
    {
     "data": {
      "text/plain": [
       "[{'iso_3166_1': 'US', 'name': 'United States of America'}]"
      ]
     },
     "execution_count": 535,
     "metadata": {},
     "output_type": "execute_result"
    }
   ],
   "source": [
    "data.production_countries[0]"
   ]
  },
  {
   "cell_type": "code",
   "execution_count": 536,
   "metadata": {},
   "outputs": [],
   "source": [
    "data.production_countries = (data.production_countries.apply(lambda x: \"|\".join(i[\"name\"] for i in x) if\n",
    "                                                            isinstance(x,list) else np.nan))"
   ]
  },
  {
   "cell_type": "code",
   "execution_count": 537,
   "metadata": {},
   "outputs": [],
   "source": [
    "data.production_countries.replace(\"\",np.nan,inplace=True)"
   ]
  },
  {
   "cell_type": "code",
   "execution_count": 538,
   "metadata": {},
   "outputs": [
    {
     "data": {
      "text/plain": [
       "United States of America                  17851\n",
       "NaN                                        6288\n",
       "United Kingdom                             2238\n",
       "France                                     1654\n",
       "Japan                                      1356\n",
       "                                          ...  \n",
       "Romania|United Kingdom|Canada                 1\n",
       "Finland|Germany|Netherlands                   1\n",
       "France|Denmark|Spain|Sweden                   1\n",
       "France|United States of America|Canada        1\n",
       "Egypt|Italy|United States of America          1\n",
       "Name: production_countries, Length: 2390, dtype: int64"
      ]
     },
     "execution_count": 538,
     "metadata": {},
     "output_type": "execute_result"
    }
   ],
   "source": [
    "data.production_countries.value_counts(dropna=False)"
   ]
  },
  {
   "cell_type": "markdown",
   "metadata": {},
   "source": [
    "8. __Extract__ all __production companies names__ from the column \"production_companies\" and __overwrite__ \"production_companies\". If a movie has more than one production company, __seperate production companies by a pipe__ \"|\".<br>\n",
    "For example: The value in the first row (Toy Story) should be 'Pixar Animation Studios'"
   ]
  },
  {
   "cell_type": "code",
   "execution_count": 539,
   "metadata": {},
   "outputs": [
    {
     "data": {
      "text/plain": [
       "[{'name': 'Pixar Animation Studios', 'id': 3}]"
      ]
     },
     "execution_count": 539,
     "metadata": {},
     "output_type": "execute_result"
    }
   ],
   "source": [
    "data.production_companies[0]"
   ]
  },
  {
   "cell_type": "code",
   "execution_count": 540,
   "metadata": {},
   "outputs": [],
   "source": [
    "data.production_companies = data.production_companies.apply(lambda x:(\"|\".join(i[\"name\"] for i in x)) if isinstance(x,list) else np.nan)"
   ]
  },
  {
   "cell_type": "code",
   "execution_count": 541,
   "metadata": {},
   "outputs": [],
   "source": [
    "data.production_companies.replace(\"\",np.nan,inplace=True)"
   ]
  },
  {
   "cell_type": "code",
   "execution_count": 542,
   "metadata": {},
   "outputs": [
    {
     "data": {
      "text/plain": [
       "NaN                                                                                                                                           11881\n",
       "Metro-Goldwyn-Mayer (MGM)                                                                                                                       742\n",
       "Warner Bros.                                                                                                                                    540\n",
       "Paramount Pictures                                                                                                                              505\n",
       "Twentieth Century Fox Film Corporation                                                                                                          439\n",
       "                                                                                                                                              ...  \n",
       "HBO Films|Moving Pictures                                                                                                                         1\n",
       "BIM Distribuzione|Canal+|Alta Producción|Centre National de la Cinématographie (CNC)|Rézo Productions|Compagnie Eric Rohmer (CER)|Cinémage        1\n",
       "Galatée Films|Novo Arturo Films|Constantin Film Produktion|Pathé|France 2 Cinéma|France 3 Cinema|Logline Studios|Blue Screen Productions          1\n",
       "Fox Searchlight Pictures|26 Films                                                                                                                 1\n",
       "Yermoliev                                                                                                                                         1\n",
       "Name: production_companies, Length: 22672, dtype: int64"
      ]
     },
     "execution_count": 542,
     "metadata": {},
     "output_type": "execute_result"
    }
   ],
   "source": [
    "data.production_companies.value_counts(dropna=False)"
   ]
  },
  {
   "cell_type": "code",
   "execution_count": 543,
   "metadata": {},
   "outputs": [
    {
     "data": {
      "text/plain": [
       "belongs_to_collection    40975\n",
       "budget                       0\n",
       "genres                    2442\n",
       "id                           0\n",
       "original_language           11\n",
       "overview                   954\n",
       "popularity                   5\n",
       "poster_path                386\n",
       "production_companies     11881\n",
       "production_countries      6288\n",
       "release_date                87\n",
       "revenue                      6\n",
       "runtime                    263\n",
       "spoken_languages          3958\n",
       "status                      87\n",
       "tagline                  25054\n",
       "title                        6\n",
       "vote_average                 6\n",
       "vote_count                   6\n",
       "dtype: int64"
      ]
     },
     "execution_count": 543,
     "metadata": {},
     "output_type": "execute_result"
    }
   ],
   "source": [
    "data.isna().sum()"
   ]
  },
  {
   "cell_type": "code",
   "execution_count": 544,
   "metadata": {},
   "outputs": [
    {
     "data": {
      "text/plain": [
       "belongs_to_collection    40972\n",
       "budget                       0\n",
       "genres                       0\n",
       "id                           0\n",
       "original_language           11\n",
       "overview                   954\n",
       "popularity                   5\n",
       "poster_path                386\n",
       "production_companies         3\n",
       "production_countries         3\n",
       "release_date                87\n",
       "revenue                      6\n",
       "runtime                    263\n",
       "spoken_languages             6\n",
       "status                      87\n",
       "tagline                  25054\n",
       "title                        6\n",
       "vote_average                 6\n",
       "vote_count                   6\n",
       "dtype: int64"
      ]
     },
     "execution_count": 544,
     "metadata": {},
     "output_type": "execute_result"
    }
   ],
   "source": [
    "data_old.isna().sum()"
   ]
  },
  {
   "cell_type": "code",
   "execution_count": 545,
   "metadata": {},
   "outputs": [
    {
     "data": {
      "text/html": [
       "<div>\n",
       "<style scoped>\n",
       "    .dataframe tbody tr th:only-of-type {\n",
       "        vertical-align: middle;\n",
       "    }\n",
       "\n",
       "    .dataframe tbody tr th {\n",
       "        vertical-align: top;\n",
       "    }\n",
       "\n",
       "    .dataframe thead th {\n",
       "        text-align: right;\n",
       "    }\n",
       "</style>\n",
       "<table border=\"1\" class=\"dataframe\">\n",
       "  <thead>\n",
       "    <tr style=\"text-align: right;\">\n",
       "      <th></th>\n",
       "      <th>belongs_to_collection</th>\n",
       "      <th>budget</th>\n",
       "      <th>genres</th>\n",
       "      <th>id</th>\n",
       "      <th>original_language</th>\n",
       "      <th>overview</th>\n",
       "      <th>popularity</th>\n",
       "      <th>poster_path</th>\n",
       "      <th>production_companies</th>\n",
       "      <th>production_countries</th>\n",
       "      <th>release_date</th>\n",
       "      <th>revenue</th>\n",
       "      <th>runtime</th>\n",
       "      <th>spoken_languages</th>\n",
       "      <th>status</th>\n",
       "      <th>tagline</th>\n",
       "      <th>title</th>\n",
       "      <th>vote_average</th>\n",
       "      <th>vote_count</th>\n",
       "    </tr>\n",
       "  </thead>\n",
       "  <tbody>\n",
       "    <tr>\n",
       "      <th>0</th>\n",
       "      <td>Toy Story Collection</td>\n",
       "      <td>30000000</td>\n",
       "      <td>Animation|Comedy|Family</td>\n",
       "      <td>862</td>\n",
       "      <td>en</td>\n",
       "      <td>Led by Woody, Andy's toys live happily in his ...</td>\n",
       "      <td>21.946943</td>\n",
       "      <td>/rhIRbceoE9lR4veEXuwCC2wARtG.jpg</td>\n",
       "      <td>Pixar Animation Studios</td>\n",
       "      <td>United States of America</td>\n",
       "      <td>1995-10-30</td>\n",
       "      <td>373554033.0</td>\n",
       "      <td>81.0</td>\n",
       "      <td>English</td>\n",
       "      <td>Released</td>\n",
       "      <td>NaN</td>\n",
       "      <td>Toy Story</td>\n",
       "      <td>7.7</td>\n",
       "      <td>5415.0</td>\n",
       "    </tr>\n",
       "    <tr>\n",
       "      <th>1</th>\n",
       "      <td>NaN</td>\n",
       "      <td>65000000</td>\n",
       "      <td>Adventure|Fantasy|Family</td>\n",
       "      <td>8844</td>\n",
       "      <td>en</td>\n",
       "      <td>When siblings Judy and Peter discover an encha...</td>\n",
       "      <td>17.015539</td>\n",
       "      <td>/vzmL6fP7aPKNKPRTFnZmiUfciyV.jpg</td>\n",
       "      <td>TriStar Pictures|Teitler Film|Interscope Commu...</td>\n",
       "      <td>United States of America</td>\n",
       "      <td>1995-12-15</td>\n",
       "      <td>262797249.0</td>\n",
       "      <td>104.0</td>\n",
       "      <td>English|Français</td>\n",
       "      <td>Released</td>\n",
       "      <td>Roll the dice and unleash the excitement!</td>\n",
       "      <td>Jumanji</td>\n",
       "      <td>6.9</td>\n",
       "      <td>2413.0</td>\n",
       "    </tr>\n",
       "  </tbody>\n",
       "</table>\n",
       "</div>"
      ],
      "text/plain": [
       "  belongs_to_collection    budget                    genres    id  \\\n",
       "0  Toy Story Collection  30000000   Animation|Comedy|Family   862   \n",
       "1                   NaN  65000000  Adventure|Fantasy|Family  8844   \n",
       "\n",
       "  original_language                                           overview  \\\n",
       "0                en  Led by Woody, Andy's toys live happily in his ...   \n",
       "1                en  When siblings Judy and Peter discover an encha...   \n",
       "\n",
       "  popularity                       poster_path  \\\n",
       "0  21.946943  /rhIRbceoE9lR4veEXuwCC2wARtG.jpg   \n",
       "1  17.015539  /vzmL6fP7aPKNKPRTFnZmiUfciyV.jpg   \n",
       "\n",
       "                                production_companies  \\\n",
       "0                            Pixar Animation Studios   \n",
       "1  TriStar Pictures|Teitler Film|Interscope Commu...   \n",
       "\n",
       "       production_countries release_date      revenue  runtime  \\\n",
       "0  United States of America   1995-10-30  373554033.0     81.0   \n",
       "1  United States of America   1995-12-15  262797249.0    104.0   \n",
       "\n",
       "   spoken_languages    status                                    tagline  \\\n",
       "0           English  Released                                        NaN   \n",
       "1  English|Français  Released  Roll the dice and unleash the excitement!   \n",
       "\n",
       "       title  vote_average  vote_count  \n",
       "0  Toy Story           7.7      5415.0  \n",
       "1    Jumanji           6.9      2413.0  "
      ]
     },
     "execution_count": 545,
     "metadata": {},
     "output_type": "execute_result"
    }
   ],
   "source": [
    "data.head(2)"
   ]
  },
  {
   "cell_type": "markdown",
   "metadata": {},
   "source": [
    "9. __Inspect__ all columns above with value_counts(). Do you see anything strange? __Take reasonable measures__!"
   ]
  },
  {
   "cell_type": "markdown",
   "metadata": {},
   "source": [
    "## Cleaning Numerical Columns"
   ]
  },
  {
   "cell_type": "markdown",
   "metadata": {},
   "source": [
    "10. __Convert__ the datatype in the columns __\"budget\"__, __\"id\"__ and __\"popularity\"__ __to numeric__. Set invalid values as NaN."
   ]
  },
  {
   "cell_type": "code",
   "execution_count": 546,
   "metadata": {},
   "outputs": [],
   "source": [
    "# def get_budget(val):\n",
    "#     try:\n",
    "#         return ast.literal_eval(val)\n",
    "#     except:\n",
    "#         return np.nan\n",
    "# data.budget.apply(get_budget).value_counts()"
   ]
  },
  {
   "cell_type": "code",
   "execution_count": 547,
   "metadata": {},
   "outputs": [],
   "source": [
    "data.budget =  pd.to_numeric(data.budget,errors='coerce')"
   ]
  },
  {
   "cell_type": "code",
   "execution_count": 548,
   "metadata": {},
   "outputs": [
    {
     "data": {
      "text/plain": [
       "0.0           36573\n",
       "5000000.0       286\n",
       "10000000.0      259\n",
       "20000000.0      243\n",
       "2000000.0       242\n",
       "              ...  \n",
       "9750000.0         1\n",
       "7275000.0         1\n",
       "78146652.0        1\n",
       "280.0             1\n",
       "1254040.0         1\n",
       "Name: budget, Length: 1224, dtype: int64"
      ]
     },
     "execution_count": 548,
     "metadata": {},
     "output_type": "execute_result"
    }
   ],
   "source": [
    "data.budget.value_counts(dropna=False)"
   ]
  },
  {
   "cell_type": "code",
   "execution_count": 549,
   "metadata": {},
   "outputs": [],
   "source": [
    "#data.budget.replace(0,np.nan,inplace=True)"
   ]
  },
  {
   "cell_type": "code",
   "execution_count": 550,
   "metadata": {},
   "outputs": [],
   "source": [
    "data.id = pd.to_numeric(data.id,errors='coerce')"
   ]
  },
  {
   "cell_type": "code",
   "execution_count": 551,
   "metadata": {},
   "outputs": [
    {
     "data": {
      "text/plain": [
       "NaN         3\n",
       "141971.0    3\n",
       "11115.0     2\n",
       "25541.0     2\n",
       "15028.0     2\n",
       "           ..\n",
       "55135.0     1\n",
       "15877.0     1\n",
       "72272.0     1\n",
       "1549.0      1\n",
       "461257.0    1\n",
       "Name: id, Length: 45434, dtype: int64"
      ]
     },
     "execution_count": 551,
     "metadata": {},
     "output_type": "execute_result"
    }
   ],
   "source": [
    "data.id.value_counts(dropna=False)"
   ]
  },
  {
   "cell_type": "markdown",
   "metadata": {},
   "source": [
    "- There are duplicated ids, meaning duplicated values in the data set."
   ]
  },
  {
   "cell_type": "code",
   "execution_count": 552,
   "metadata": {},
   "outputs": [],
   "source": [
    "data.popularity = pd.to_numeric(data.popularity,errors='coerce')"
   ]
  },
  {
   "cell_type": "code",
   "execution_count": 553,
   "metadata": {},
   "outputs": [
    {
     "data": {
      "text/plain": [
       "0.000000    66\n",
       "0.000001    56\n",
       "0.000308    43\n",
       "0.000220    40\n",
       "0.000844    38\n",
       "            ..\n",
       "4.762242     1\n",
       "6.173752     1\n",
       "0.645652     1\n",
       "0.556292     1\n",
       "0.163015     1\n",
       "Name: popularity, Length: 43758, dtype: int64"
      ]
     },
     "execution_count": 553,
     "metadata": {},
     "output_type": "execute_result"
    }
   ],
   "source": [
    "data.popularity.value_counts(dropna=False)"
   ]
  },
  {
   "cell_type": "markdown",
   "metadata": {},
   "source": [
    "11. __Analyze__ the columns __\"budget\"__ and __\"revenue\"__ and __\"runtime\"__. Analyze movies with a budget/revenue/runtime of 0. Do you think the value 0 is the most appropriate value? __Take reasonable measures__! "
   ]
  },
  {
   "cell_type": "code",
   "execution_count": 554,
   "metadata": {},
   "outputs": [
    {
     "data": {
      "text/plain": [
       "0.0           36573\n",
       "5000000.0       286\n",
       "10000000.0      259\n",
       "20000000.0      243\n",
       "2000000.0       242\n",
       "              ...  \n",
       "9750000.0         1\n",
       "7275000.0         1\n",
       "78146652.0        1\n",
       "280.0             1\n",
       "1254040.0         1\n",
       "Name: budget, Length: 1224, dtype: int64"
      ]
     },
     "execution_count": 554,
     "metadata": {},
     "output_type": "execute_result"
    }
   ],
   "source": [
    "data.budget.value_counts(dropna=False)"
   ]
  },
  {
   "cell_type": "code",
   "execution_count": 555,
   "metadata": {},
   "outputs": [
    {
     "data": {
      "text/plain": [
       "0.0           38052\n",
       "12000000.0       20\n",
       "11000000.0       19\n",
       "10000000.0       19\n",
       "2000000.0        18\n",
       "              ...  \n",
       "36565280.0        1\n",
       "439564.0          1\n",
       "35610100.0        1\n",
       "10217873.0        1\n",
       "1413000.0         1\n",
       "Name: revenue, Length: 6863, dtype: int64"
      ]
     },
     "execution_count": 555,
     "metadata": {},
     "output_type": "execute_result"
    }
   ],
   "source": [
    "data.revenue.value_counts()"
   ]
  },
  {
   "cell_type": "code",
   "execution_count": 556,
   "metadata": {},
   "outputs": [
    {
     "data": {
      "text/plain": [
       "90.0     2556\n",
       "0.0      1558\n",
       "100.0    1470\n",
       "95.0     1412\n",
       "93.0     1214\n",
       "         ... \n",
       "410.0       1\n",
       "283.0       1\n",
       "238.0       1\n",
       "566.0       1\n",
       "780.0       1\n",
       "Name: runtime, Length: 353, dtype: int64"
      ]
     },
     "execution_count": 556,
     "metadata": {},
     "output_type": "execute_result"
    }
   ],
   "source": [
    "data.runtime.value_counts()"
   ]
  },
  {
   "cell_type": "code",
   "execution_count": 557,
   "metadata": {},
   "outputs": [
    {
     "data": {
      "text/html": [
       "<div>\n",
       "<style scoped>\n",
       "    .dataframe tbody tr th:only-of-type {\n",
       "        vertical-align: middle;\n",
       "    }\n",
       "\n",
       "    .dataframe tbody tr th {\n",
       "        vertical-align: top;\n",
       "    }\n",
       "\n",
       "    .dataframe thead th {\n",
       "        text-align: right;\n",
       "    }\n",
       "</style>\n",
       "<table border=\"1\" class=\"dataframe\">\n",
       "  <thead>\n",
       "    <tr style=\"text-align: right;\">\n",
       "      <th></th>\n",
       "      <th>title</th>\n",
       "      <th>budget</th>\n",
       "      <th>runtime</th>\n",
       "      <th>revenue</th>\n",
       "      <th>popularity</th>\n",
       "      <th>vote_average</th>\n",
       "      <th>vote_count</th>\n",
       "    </tr>\n",
       "  </thead>\n",
       "  <tbody>\n",
       "    <tr>\n",
       "      <th>2</th>\n",
       "      <td>Grumpier Old Men</td>\n",
       "      <td>0.0</td>\n",
       "      <td>101.0</td>\n",
       "      <td>0.0</td>\n",
       "      <td>11.712900</td>\n",
       "      <td>6.5</td>\n",
       "      <td>92.0</td>\n",
       "    </tr>\n",
       "    <tr>\n",
       "      <th>4</th>\n",
       "      <td>Father of the Bride Part II</td>\n",
       "      <td>0.0</td>\n",
       "      <td>106.0</td>\n",
       "      <td>76578911.0</td>\n",
       "      <td>8.387519</td>\n",
       "      <td>5.7</td>\n",
       "      <td>173.0</td>\n",
       "    </tr>\n",
       "    <tr>\n",
       "      <th>6</th>\n",
       "      <td>Sabrina</td>\n",
       "      <td>58000000.0</td>\n",
       "      <td>127.0</td>\n",
       "      <td>0.0</td>\n",
       "      <td>6.677277</td>\n",
       "      <td>6.2</td>\n",
       "      <td>141.0</td>\n",
       "    </tr>\n",
       "    <tr>\n",
       "      <th>7</th>\n",
       "      <td>Tom and Huck</td>\n",
       "      <td>0.0</td>\n",
       "      <td>97.0</td>\n",
       "      <td>0.0</td>\n",
       "      <td>2.561161</td>\n",
       "      <td>5.4</td>\n",
       "      <td>45.0</td>\n",
       "    </tr>\n",
       "    <tr>\n",
       "      <th>11</th>\n",
       "      <td>Dracula: Dead and Loving It</td>\n",
       "      <td>0.0</td>\n",
       "      <td>88.0</td>\n",
       "      <td>0.0</td>\n",
       "      <td>5.430331</td>\n",
       "      <td>5.7</td>\n",
       "      <td>210.0</td>\n",
       "    </tr>\n",
       "    <tr>\n",
       "      <th>...</th>\n",
       "      <td>...</td>\n",
       "      <td>...</td>\n",
       "      <td>...</td>\n",
       "      <td>...</td>\n",
       "      <td>...</td>\n",
       "      <td>...</td>\n",
       "      <td>...</td>\n",
       "    </tr>\n",
       "    <tr>\n",
       "      <th>45461</th>\n",
       "      <td>Subdue</td>\n",
       "      <td>0.0</td>\n",
       "      <td>90.0</td>\n",
       "      <td>0.0</td>\n",
       "      <td>0.072051</td>\n",
       "      <td>4.0</td>\n",
       "      <td>1.0</td>\n",
       "    </tr>\n",
       "    <tr>\n",
       "      <th>45462</th>\n",
       "      <td>Century of Birthing</td>\n",
       "      <td>0.0</td>\n",
       "      <td>360.0</td>\n",
       "      <td>0.0</td>\n",
       "      <td>0.178241</td>\n",
       "      <td>9.0</td>\n",
       "      <td>3.0</td>\n",
       "    </tr>\n",
       "    <tr>\n",
       "      <th>45463</th>\n",
       "      <td>Betrayal</td>\n",
       "      <td>0.0</td>\n",
       "      <td>90.0</td>\n",
       "      <td>0.0</td>\n",
       "      <td>0.903007</td>\n",
       "      <td>3.8</td>\n",
       "      <td>6.0</td>\n",
       "    </tr>\n",
       "    <tr>\n",
       "      <th>45464</th>\n",
       "      <td>Satan Triumphant</td>\n",
       "      <td>0.0</td>\n",
       "      <td>87.0</td>\n",
       "      <td>0.0</td>\n",
       "      <td>0.003503</td>\n",
       "      <td>0.0</td>\n",
       "      <td>0.0</td>\n",
       "    </tr>\n",
       "    <tr>\n",
       "      <th>45465</th>\n",
       "      <td>Queerama</td>\n",
       "      <td>0.0</td>\n",
       "      <td>75.0</td>\n",
       "      <td>0.0</td>\n",
       "      <td>0.163015</td>\n",
       "      <td>0.0</td>\n",
       "      <td>0.0</td>\n",
       "    </tr>\n",
       "  </tbody>\n",
       "</table>\n",
       "<p>40093 rows × 7 columns</p>\n",
       "</div>"
      ],
      "text/plain": [
       "                             title      budget  runtime     revenue  \\\n",
       "2                 Grumpier Old Men         0.0    101.0         0.0   \n",
       "4      Father of the Bride Part II         0.0    106.0  76578911.0   \n",
       "6                          Sabrina  58000000.0    127.0         0.0   \n",
       "7                     Tom and Huck         0.0     97.0         0.0   \n",
       "11     Dracula: Dead and Loving It         0.0     88.0         0.0   \n",
       "...                            ...         ...      ...         ...   \n",
       "45461                       Subdue         0.0     90.0         0.0   \n",
       "45462          Century of Birthing         0.0    360.0         0.0   \n",
       "45463                     Betrayal         0.0     90.0         0.0   \n",
       "45464             Satan Triumphant         0.0     87.0         0.0   \n",
       "45465                     Queerama         0.0     75.0         0.0   \n",
       "\n",
       "       popularity  vote_average  vote_count  \n",
       "2       11.712900           6.5        92.0  \n",
       "4        8.387519           5.7       173.0  \n",
       "6        6.677277           6.2       141.0  \n",
       "7        2.561161           5.4        45.0  \n",
       "11       5.430331           5.7       210.0  \n",
       "...           ...           ...         ...  \n",
       "45461    0.072051           4.0         1.0  \n",
       "45462    0.178241           9.0         3.0  \n",
       "45463    0.903007           3.8         6.0  \n",
       "45464    0.003503           0.0         0.0  \n",
       "45465    0.163015           0.0         0.0  \n",
       "\n",
       "[40093 rows x 7 columns]"
      ]
     },
     "execution_count": 557,
     "metadata": {},
     "output_type": "execute_result"
    }
   ],
   "source": [
    "(data[(data.budget==0.0) | (data.runtime==0.0) | (data.revenue == 0.0)]\n",
    " [['title','budget',\"runtime\",'revenue',\"popularity\",\"vote_average\",\"vote_count\"]])"
   ]
  },
  {
   "cell_type": "code",
   "execution_count": 558,
   "metadata": {},
   "outputs": [],
   "source": [
    "data.loc[:,[\"budget\",\"runtime\",\"revenue\"]] = data[[\"budget\",\"runtime\",\"revenue\"]].replace(0.0,np.nan)"
   ]
  },
  {
   "cell_type": "code",
   "execution_count": 559,
   "metadata": {},
   "outputs": [
    {
     "data": {
      "text/plain": [
       "NaN           36576\n",
       "5000000.0       286\n",
       "10000000.0      259\n",
       "20000000.0      243\n",
       "2000000.0       242\n",
       "Name: budget, dtype: int64"
      ]
     },
     "execution_count": 559,
     "metadata": {},
     "output_type": "execute_result"
    }
   ],
   "source": [
    "data[\"budget\"].value_counts(dropna=False).head(5)"
   ]
  },
  {
   "cell_type": "code",
   "execution_count": 560,
   "metadata": {},
   "outputs": [
    {
     "data": {
      "text/plain": [
       "NaN           38058\n",
       "12000000.0       20\n",
       "11000000.0       19\n",
       "10000000.0       19\n",
       "2000000.0        18\n",
       "Name: revenue, dtype: int64"
      ]
     },
     "execution_count": 560,
     "metadata": {},
     "output_type": "execute_result"
    }
   ],
   "source": [
    "data[\"revenue\"].value_counts(dropna=False).head(5)"
   ]
  },
  {
   "cell_type": "code",
   "execution_count": 561,
   "metadata": {},
   "outputs": [
    {
     "data": {
      "text/plain": [
       "90.0     2556\n",
       "NaN      1821\n",
       "100.0    1470\n",
       "95.0     1412\n",
       "93.0     1214\n",
       "Name: runtime, dtype: int64"
      ]
     },
     "execution_count": 561,
     "metadata": {},
     "output_type": "execute_result"
    }
   ],
   "source": [
    "data[\"runtime\"].value_counts(dropna=False).head(5)"
   ]
  },
  {
   "cell_type": "markdown",
   "metadata": {},
   "source": [
    "- Movies with 0 value of budget or revenew or runtime does not make any sense, and also the other features of most of those movies are non-zero. Those values were most likely not availble during the collection, and thus should be replaced by NaN."
   ]
  },
  {
   "cell_type": "markdown",
   "metadata": {},
   "source": [
    "12. The columns \"budget\" and \"revenue\" shall show values in Million USD. __Convert and Overwrite__!"
   ]
  },
  {
   "cell_type": "code",
   "execution_count": 562,
   "metadata": {},
   "outputs": [],
   "source": [
    "data.loc[:,[\"budget\",\"revenue\"]] = data[[\"budget\",\"revenue\"]]/1000000  #Converting into million USD "
   ]
  },
  {
   "cell_type": "code",
   "execution_count": 563,
   "metadata": {},
   "outputs": [],
   "source": [
    "data.rename(columns={\"budget\":\"budget_musd\",\"revenue\":\"revenue_musd\"},inplace=True)"
   ]
  },
  {
   "cell_type": "code",
   "execution_count": 564,
   "metadata": {},
   "outputs": [
    {
     "name": "stdout",
     "output_type": "stream",
     "text": [
      "<class 'pandas.core.frame.DataFrame'>\n",
      "RangeIndex: 45466 entries, 0 to 45465\n",
      "Data columns (total 19 columns):\n",
      " #   Column                 Non-Null Count  Dtype  \n",
      "---  ------                 --------------  -----  \n",
      " 0   belongs_to_collection  4491 non-null   object \n",
      " 1   budget_musd            8890 non-null   float64\n",
      " 2   genres                 43024 non-null  object \n",
      " 3   id                     45463 non-null  float64\n",
      " 4   original_language      45455 non-null  object \n",
      " 5   overview               44512 non-null  object \n",
      " 6   popularity             45460 non-null  float64\n",
      " 7   poster_path            45080 non-null  object \n",
      " 8   production_companies   33585 non-null  object \n",
      " 9   production_countries   39178 non-null  object \n",
      " 10  release_date           45379 non-null  object \n",
      " 11  revenue_musd           7408 non-null   float64\n",
      " 12  runtime                43645 non-null  float64\n",
      " 13  spoken_languages       41508 non-null  object \n",
      " 14  status                 45379 non-null  object \n",
      " 15  tagline                20412 non-null  object \n",
      " 16  title                  45460 non-null  object \n",
      " 17  vote_average           45460 non-null  float64\n",
      " 18  vote_count             45460 non-null  float64\n",
      "dtypes: float64(7), object(12)\n",
      "memory usage: 6.6+ MB\n"
     ]
    }
   ],
   "source": [
    "data.info()"
   ]
  },
  {
   "cell_type": "markdown",
   "metadata": {},
   "source": [
    "13. __Analyze__ movies with a __vote_count of 0__. What´s the __vote_average__ for those movies? Do you think this value is the most appropriate value? __Take reasonable measures__!"
   ]
  },
  {
   "cell_type": "code",
   "execution_count": 565,
   "metadata": {},
   "outputs": [
    {
     "data": {
      "text/plain": [
       "1.0       3264\n",
       "2.0       3132\n",
       "0.0       2899\n",
       "3.0       2787\n",
       "4.0       2480\n",
       "          ... \n",
       "2755.0       1\n",
       "1187.0       1\n",
       "4200.0       1\n",
       "3322.0       1\n",
       "2712.0       1\n",
       "Name: vote_count, Length: 1820, dtype: int64"
      ]
     },
     "execution_count": 565,
     "metadata": {},
     "output_type": "execute_result"
    }
   ],
   "source": [
    "data.vote_count.value_counts()"
   ]
  },
  {
   "cell_type": "code",
   "execution_count": 566,
   "metadata": {},
   "outputs": [
    {
     "data": {
      "text/plain": [
       "0.0    2998\n",
       "6.0    2468\n",
       "5.0    2001\n",
       "7.0    1886\n",
       "6.5    1722\n",
       "Name: vote_average, dtype: int64"
      ]
     },
     "execution_count": 566,
     "metadata": {},
     "output_type": "execute_result"
    }
   ],
   "source": [
    "data.vote_average.value_counts().head(5)"
   ]
  },
  {
   "cell_type": "code",
   "execution_count": 567,
   "metadata": {},
   "outputs": [
    {
     "data": {
      "text/html": [
       "<div>\n",
       "<style scoped>\n",
       "    .dataframe tbody tr th:only-of-type {\n",
       "        vertical-align: middle;\n",
       "    }\n",
       "\n",
       "    .dataframe tbody tr th {\n",
       "        vertical-align: top;\n",
       "    }\n",
       "\n",
       "    .dataframe thead th {\n",
       "        text-align: right;\n",
       "    }\n",
       "</style>\n",
       "<table border=\"1\" class=\"dataframe\">\n",
       "  <thead>\n",
       "    <tr style=\"text-align: right;\">\n",
       "      <th></th>\n",
       "      <th>title</th>\n",
       "      <th>budget_musd</th>\n",
       "      <th>runtime</th>\n",
       "      <th>revenue_musd</th>\n",
       "      <th>popularity</th>\n",
       "      <th>vote_average</th>\n",
       "      <th>vote_count</th>\n",
       "    </tr>\n",
       "  </thead>\n",
       "  <tbody>\n",
       "    <tr>\n",
       "      <th>5636</th>\n",
       "      <td>Night of the Zombies</td>\n",
       "      <td>NaN</td>\n",
       "      <td>88.0</td>\n",
       "      <td>NaN</td>\n",
       "      <td>0.0</td>\n",
       "      <td>0.0</td>\n",
       "      <td>0.0</td>\n",
       "    </tr>\n",
       "    <tr>\n",
       "      <th>13032</th>\n",
       "      <td>My Sons</td>\n",
       "      <td>NaN</td>\n",
       "      <td>120.0</td>\n",
       "      <td>NaN</td>\n",
       "      <td>0.0</td>\n",
       "      <td>0.0</td>\n",
       "      <td>0.0</td>\n",
       "    </tr>\n",
       "    <tr>\n",
       "      <th>13839</th>\n",
       "      <td>Bling: A Planet Rock</td>\n",
       "      <td>0.75</td>\n",
       "      <td>90.0</td>\n",
       "      <td>NaN</td>\n",
       "      <td>0.0</td>\n",
       "      <td>0.0</td>\n",
       "      <td>0.0</td>\n",
       "    </tr>\n",
       "    <tr>\n",
       "      <th>14890</th>\n",
       "      <td>Lars i porten</td>\n",
       "      <td>NaN</td>\n",
       "      <td>NaN</td>\n",
       "      <td>NaN</td>\n",
       "      <td>0.0</td>\n",
       "      <td>0.0</td>\n",
       "      <td>0.0</td>\n",
       "    </tr>\n",
       "    <tr>\n",
       "      <th>16836</th>\n",
       "      <td>Das Experiment 770 - Gebären auf Befehl</td>\n",
       "      <td>NaN</td>\n",
       "      <td>52.0</td>\n",
       "      <td>NaN</td>\n",
       "      <td>0.0</td>\n",
       "      <td>0.0</td>\n",
       "      <td>0.0</td>\n",
       "    </tr>\n",
       "  </tbody>\n",
       "</table>\n",
       "</div>"
      ],
      "text/plain": [
       "                                         title  budget_musd  runtime  \\\n",
       "5636                      Night of the Zombies          NaN     88.0   \n",
       "13032                                  My Sons          NaN    120.0   \n",
       "13839                     Bling: A Planet Rock         0.75     90.0   \n",
       "14890                            Lars i porten          NaN      NaN   \n",
       "16836  Das Experiment 770 - Gebären auf Befehl          NaN     52.0   \n",
       "\n",
       "       revenue_musd  popularity  vote_average  vote_count  \n",
       "5636            NaN         0.0           0.0         0.0  \n",
       "13032           NaN         0.0           0.0         0.0  \n",
       "13839           NaN         0.0           0.0         0.0  \n",
       "14890           NaN         0.0           0.0         0.0  \n",
       "16836           NaN         0.0           0.0         0.0  "
      ]
     },
     "execution_count": 567,
     "metadata": {},
     "output_type": "execute_result"
    }
   ],
   "source": [
    "(data[(data.vote_count==0.0) & (data.popularity==0.0)]\n",
    " [['title','budget_musd',\"runtime\",'revenue_musd',\"popularity\",\"vote_average\",\"vote_count\"]]).head()"
   ]
  },
  {
   "cell_type": "markdown",
   "metadata": {},
   "source": [
    "- vote_counts can be 0, but vote_avg must be between 1 and 10. Since, we vote_avg is available when vote_count =0, we can replace 0 vote_avg by nan."
   ]
  },
  {
   "cell_type": "code",
   "execution_count": 568,
   "metadata": {},
   "outputs": [],
   "source": [
    "data.vote_average.replace(0.0,np.nan,inplace=True)"
   ]
  },
  {
   "cell_type": "code",
   "execution_count": 569,
   "metadata": {},
   "outputs": [
    {
     "name": "stdout",
     "output_type": "stream",
     "text": [
      "<class 'pandas.core.frame.DataFrame'>\n",
      "RangeIndex: 45466 entries, 0 to 45465\n",
      "Data columns (total 19 columns):\n",
      " #   Column                 Non-Null Count  Dtype  \n",
      "---  ------                 --------------  -----  \n",
      " 0   belongs_to_collection  4491 non-null   object \n",
      " 1   budget_musd            8890 non-null   float64\n",
      " 2   genres                 43024 non-null  object \n",
      " 3   id                     45463 non-null  float64\n",
      " 4   original_language      45455 non-null  object \n",
      " 5   overview               44512 non-null  object \n",
      " 6   popularity             45460 non-null  float64\n",
      " 7   poster_path            45080 non-null  object \n",
      " 8   production_companies   33585 non-null  object \n",
      " 9   production_countries   39178 non-null  object \n",
      " 10  release_date           45379 non-null  object \n",
      " 11  revenue_musd           7408 non-null   float64\n",
      " 12  runtime                43645 non-null  float64\n",
      " 13  spoken_languages       41508 non-null  object \n",
      " 14  status                 45379 non-null  object \n",
      " 15  tagline                20412 non-null  object \n",
      " 16  title                  45460 non-null  object \n",
      " 17  vote_average           42462 non-null  float64\n",
      " 18  vote_count             45460 non-null  float64\n",
      "dtypes: float64(7), object(12)\n",
      "memory usage: 6.6+ MB\n"
     ]
    }
   ],
   "source": [
    "data.info()"
   ]
  },
  {
   "cell_type": "markdown",
   "metadata": {},
   "source": [
    "## Cleaning DateTime Columns"
   ]
  },
  {
   "cell_type": "markdown",
   "metadata": {},
   "source": [
    "14. __Convert__ the datatype in the column __\"release_date\"__ __to datetime__. Set invalid values as NaN."
   ]
  },
  {
   "cell_type": "code",
   "execution_count": 570,
   "metadata": {},
   "outputs": [],
   "source": [
    "data.release_date = pd.to_datetime(data.release_date,errors='coerce')"
   ]
  },
  {
   "cell_type": "code",
   "execution_count": 571,
   "metadata": {},
   "outputs": [
    {
     "data": {
      "text/plain": [
       "2008-01-01    136\n",
       "2009-01-01    121\n",
       "2007-01-01    118\n",
       "2005-01-01    111\n",
       "2006-01-01    101\n",
       "2002-01-01     96\n",
       "2004-01-01     90\n",
       "NaT            90\n",
       "2001-01-01     84\n",
       "2003-01-01     76\n",
       "Name: release_date, dtype: int64"
      ]
     },
     "execution_count": 571,
     "metadata": {},
     "output_type": "execute_result"
    }
   ],
   "source": [
    "data.release_date.value_counts(dropna=False).head(10)"
   ]
  },
  {
   "cell_type": "markdown",
   "metadata": {},
   "source": [
    "## Cleaning Text / String Columns"
   ]
  },
  {
   "cell_type": "markdown",
   "metadata": {},
   "source": [
    "15. __Analyze__ the text columns \"overview\" and \"tagline\". Try to identify __missing data that is not represented by NaN__ (e.g. \"No Data\"). __Replace as NaN__ (np.nan)!"
   ]
  },
  {
   "cell_type": "code",
   "execution_count": 572,
   "metadata": {},
   "outputs": [
    {
     "data": {
      "text/plain": [
       "NaN                             954\n",
       "No overview found.              133\n",
       "No Overview                       7\n",
       "                                  5\n",
       "No movie overview available.      3\n",
       "Name: overview, dtype: int64"
      ]
     },
     "execution_count": 572,
     "metadata": {},
     "output_type": "execute_result"
    }
   ],
   "source": [
    "data.overview.value_counts(dropna=False).head(5)"
   ]
  },
  {
   "cell_type": "code",
   "execution_count": 573,
   "metadata": {},
   "outputs": [
    {
     "data": {
      "text/plain": [
       "['No overview found.',\n",
       " 'No Overview',\n",
       " 'No movie overview available.',\n",
       " 'No overview yet.',\n",
       " 'No overview found',\n",
       " 'No overview',\n",
       " 'No overview.',\n",
       " 'No plot overview available']"
      ]
     },
     "execution_count": 573,
     "metadata": {},
     "output_type": "execute_result"
    }
   ],
   "source": [
    "[x for x in data.overview.value_counts().keys() if (\"No \" in x) and (len(x)<40)]"
   ]
  },
  {
   "cell_type": "code",
   "execution_count": 574,
   "metadata": {},
   "outputs": [],
   "source": [
    "No_overview_cols = [x for x in data.overview.value_counts().keys() if (\"No \" in x) and (len(x)<40)]"
   ]
  },
  {
   "cell_type": "code",
   "execution_count": 575,
   "metadata": {},
   "outputs": [],
   "source": [
    "No_overview_cols.append(\" \")"
   ]
  },
  {
   "cell_type": "code",
   "execution_count": 576,
   "metadata": {},
   "outputs": [
    {
     "data": {
      "text/plain": [
       "['No overview found.',\n",
       " 'No Overview',\n",
       " 'No movie overview available.',\n",
       " 'No overview yet.',\n",
       " 'No overview found',\n",
       " 'No overview',\n",
       " 'No overview.',\n",
       " 'No plot overview available',\n",
       " ' ']"
      ]
     },
     "execution_count": 576,
     "metadata": {},
     "output_type": "execute_result"
    }
   ],
   "source": [
    "No_overview_cols"
   ]
  },
  {
   "cell_type": "code",
   "execution_count": 577,
   "metadata": {},
   "outputs": [],
   "source": [
    "data.overview.replace(No_overview_cols,np.nan,inplace=True)"
   ]
  },
  {
   "cell_type": "code",
   "execution_count": 578,
   "metadata": {},
   "outputs": [
    {
     "data": {
      "text/plain": [
       "NaN                                                                                                                                                                                                                                                                                                                                                                                                                                                                                                                                                                                               1108\n",
       "A few funny little novels about different aspects of life.                                                                                                                                                                                                                                                                                                                                                                                                                                                                                                                                           3\n",
       "Released                                                                                                                                                                                                                                                                                                                                                                                                                                                                                                                                                                                             3\n",
       "King Lear, old and tired, divides his kingdom among his daughters, giving great importance to their protestations of love for him. When Cordelia, youngest and most honest, refuses to idly flatter the old man in return for favor, he banishes her and turns for support to his remaining daughters. But Goneril and Regan have no love for him and instead plot to take all his power from him. In a parallel, Lear's loyal courtier Gloucester favors his illegitimate son Edmund after being told lies about his faithful son Edgar. Madness and tragedy befall both ill-starred fathers.       3\n",
       "Adaptation of the Jane Austen novel.                                                                                                                                                                                                                                                                                                                                                                                                                                                                                                                                                                 3\n",
       "Name: overview, dtype: int64"
      ]
     },
     "execution_count": 578,
     "metadata": {},
     "output_type": "execute_result"
    }
   ],
   "source": [
    "data.overview.value_counts(dropna=False).head(5)"
   ]
  },
  {
   "cell_type": "code",
   "execution_count": 579,
   "metadata": {},
   "outputs": [
    {
     "data": {
      "text/plain": [
       "NaN                                                           25054\n",
       "Based on a true story.                                            7\n",
       "Trust no one.                                                     4\n",
       "Be careful what you wish for.                                     4\n",
       "-                                                                 4\n",
       "Classic Albums                                                    3\n",
       "Some doors should never be opened.                                3\n",
       "A Love Story                                                      3\n",
       "Drama                                                             3\n",
       "Know Your Enemy                                                   3\n",
       "Which one is the first to return - memory or the murderer?        3\n",
       "How far would you go?                                             3\n",
       "The end is near.                                                  3\n",
       "There is no turning back                                          3\n",
       "There are two sides to every love story.                          3\n",
       "Name: tagline, dtype: int64"
      ]
     },
     "execution_count": 579,
     "metadata": {},
     "output_type": "execute_result"
    }
   ],
   "source": [
    "data.tagline.value_counts(dropna=False).head(15)"
   ]
  },
  {
   "cell_type": "code",
   "execution_count": 580,
   "metadata": {},
   "outputs": [
    {
     "data": {
      "text/plain": [
       "NaN                                                           25054\n",
       "Based on a true story.                                            7\n",
       "Trust no one.                                                     4\n",
       "Be careful what you wish for.                                     4\n",
       "-                                                                 4\n",
       "                                                              ...  \n",
       "A special force in a special kind of hell!                        1\n",
       "Play it. Sing it. Shout it. Feel it.                              1\n",
       "If It's On TV, It Must Be The Truth.                              1\n",
       "\"I LOVE YOU BABY, BUT MY WIFE JUST REFUSES TO UNDERSTAND!\"        1\n",
       "A deadly game of wits.                                            1\n",
       "Name: tagline, Length: 20284, dtype: int64"
      ]
     },
     "execution_count": 580,
     "metadata": {},
     "output_type": "execute_result"
    }
   ],
   "source": [
    "data.tagline.value_counts(dropna=False)"
   ]
  },
  {
   "cell_type": "code",
   "execution_count": 581,
   "metadata": {},
   "outputs": [],
   "source": [
    "data.tagline.replace('-',np.nan,inplace=True)"
   ]
  },
  {
   "cell_type": "code",
   "execution_count": 582,
   "metadata": {},
   "outputs": [
    {
     "data": {
      "text/plain": [
       "Cinderella              11\n",
       "Alice in Wonderland      9\n",
       "Hamlet                   9\n",
       "Les Misérables           8\n",
       "Beauty and the Beast     8\n",
       "Treasure Island          7\n",
       "A Christmas Carol        7\n",
       "The Three Musketeers     7\n",
       "Blackout                 7\n",
       "Home                     6\n",
       "Name: title, dtype: int64"
      ]
     },
     "execution_count": 582,
     "metadata": {},
     "output_type": "execute_result"
    }
   ],
   "source": [
    "data.title.value_counts(dropna=False).iloc[:10]"
   ]
  },
  {
   "cell_type": "markdown",
   "metadata": {},
   "source": [
    "- Title column can have duplicate values. Movies with same name is possible."
   ]
  },
  {
   "cell_type": "code",
   "execution_count": 583,
   "metadata": {},
   "outputs": [
    {
     "data": {
      "text/plain": [
       "en     32269\n",
       "fr      2438\n",
       "it      1529\n",
       "ja      1350\n",
       "de      1080\n",
       "es       994\n",
       "ru       826\n",
       "hi       508\n",
       "ko       444\n",
       "zh       409\n",
       "sv       384\n",
       "pt       316\n",
       "cn       313\n",
       "fi       297\n",
       "nl       248\n",
       "da       225\n",
       "pl       219\n",
       "tr       150\n",
       "cs       130\n",
       "el       113\n",
       "no       106\n",
       "fa       101\n",
       "hu       100\n",
       "ta        78\n",
       "th        76\n",
       "he        67\n",
       "sr        63\n",
       "ro        57\n",
       "te        45\n",
       "ar        39\n",
       "ml        36\n",
       "xx        33\n",
       "bn        29\n",
       "hr        29\n",
       "mr        25\n",
       "is        24\n",
       "et        24\n",
       "tl        23\n",
       "id        20\n",
       "lv        18\n",
       "ka        18\n",
       "sl        17\n",
       "uk        16\n",
       "bs        14\n",
       "ca        12\n",
       "NaN       11\n",
       "bg        10\n",
       "ab        10\n",
       "vi        10\n",
       "sk         9\n",
       "Name: original_language, dtype: int64"
      ]
     },
     "execution_count": 583,
     "metadata": {},
     "output_type": "execute_result"
    }
   ],
   "source": [
    "data.original_language.value_counts(dropna=False).iloc[:50]"
   ]
  },
  {
   "cell_type": "markdown",
   "metadata": {},
   "source": [
    "## Removing Duplicates"
   ]
  },
  {
   "cell_type": "code",
   "execution_count": 584,
   "metadata": {},
   "outputs": [
    {
     "data": {
      "text/html": [
       "<div>\n",
       "<style scoped>\n",
       "    .dataframe tbody tr th:only-of-type {\n",
       "        vertical-align: middle;\n",
       "    }\n",
       "\n",
       "    .dataframe tbody tr th {\n",
       "        vertical-align: top;\n",
       "    }\n",
       "\n",
       "    .dataframe thead th {\n",
       "        text-align: right;\n",
       "    }\n",
       "</style>\n",
       "<table border=\"1\" class=\"dataframe\">\n",
       "  <thead>\n",
       "    <tr style=\"text-align: right;\">\n",
       "      <th></th>\n",
       "      <th>belongs_to_collection</th>\n",
       "      <th>budget_musd</th>\n",
       "      <th>genres</th>\n",
       "      <th>id</th>\n",
       "      <th>original_language</th>\n",
       "      <th>overview</th>\n",
       "      <th>popularity</th>\n",
       "      <th>poster_path</th>\n",
       "      <th>production_companies</th>\n",
       "      <th>production_countries</th>\n",
       "      <th>release_date</th>\n",
       "      <th>revenue_musd</th>\n",
       "      <th>runtime</th>\n",
       "      <th>spoken_languages</th>\n",
       "      <th>status</th>\n",
       "      <th>tagline</th>\n",
       "      <th>title</th>\n",
       "      <th>vote_average</th>\n",
       "      <th>vote_count</th>\n",
       "    </tr>\n",
       "  </thead>\n",
       "  <tbody>\n",
       "    <tr>\n",
       "      <th>7345</th>\n",
       "      <td>NaN</td>\n",
       "      <td>NaN</td>\n",
       "      <td>Crime|Drama|Thriller</td>\n",
       "      <td>5511.0</td>\n",
       "      <td>fr</td>\n",
       "      <td>Hitman Jef Costello is a perfectionist who alw...</td>\n",
       "      <td>9.091288</td>\n",
       "      <td>/cvNW8IXigbaMNo4gKEIps0NGnhA.jpg</td>\n",
       "      <td>Fida cinematografica|Compagnie Industrielle et...</td>\n",
       "      <td>France|Italy</td>\n",
       "      <td>1967-10-25</td>\n",
       "      <td>0.039481</td>\n",
       "      <td>105.0</td>\n",
       "      <td>Français</td>\n",
       "      <td>Released</td>\n",
       "      <td>There is no solitude greater than that of the ...</td>\n",
       "      <td>Le Samouraï</td>\n",
       "      <td>7.9</td>\n",
       "      <td>187.0</td>\n",
       "    </tr>\n",
       "    <tr>\n",
       "      <th>9165</th>\n",
       "      <td>NaN</td>\n",
       "      <td>NaN</td>\n",
       "      <td>Crime|Drama|Thriller</td>\n",
       "      <td>5511.0</td>\n",
       "      <td>fr</td>\n",
       "      <td>Hitman Jef Costello is a perfectionist who alw...</td>\n",
       "      <td>9.091288</td>\n",
       "      <td>/cvNW8IXigbaMNo4gKEIps0NGnhA.jpg</td>\n",
       "      <td>Fida cinematografica|Compagnie Industrielle et...</td>\n",
       "      <td>France|Italy</td>\n",
       "      <td>1967-10-25</td>\n",
       "      <td>0.039481</td>\n",
       "      <td>105.0</td>\n",
       "      <td>Français</td>\n",
       "      <td>Released</td>\n",
       "      <td>There is no solitude greater than that of the ...</td>\n",
       "      <td>Le Samouraï</td>\n",
       "      <td>7.9</td>\n",
       "      <td>187.0</td>\n",
       "    </tr>\n",
       "    <tr>\n",
       "      <th>24844</th>\n",
       "      <td>NaN</td>\n",
       "      <td>NaN</td>\n",
       "      <td>Comedy|Drama</td>\n",
       "      <td>11115.0</td>\n",
       "      <td>en</td>\n",
       "      <td>As an ex-gambler teaches a hot-shot college ki...</td>\n",
       "      <td>6.880365</td>\n",
       "      <td>/kHaBqrrozaG7rj6GJg3sUCiM29B.jpg</td>\n",
       "      <td>Andertainment Group|Crescent City Pictures|Tag...</td>\n",
       "      <td>United States of America</td>\n",
       "      <td>2008-01-29</td>\n",
       "      <td>NaN</td>\n",
       "      <td>85.0</td>\n",
       "      <td>English</td>\n",
       "      <td>Released</td>\n",
       "      <td>NaN</td>\n",
       "      <td>Deal</td>\n",
       "      <td>5.2</td>\n",
       "      <td>22.0</td>\n",
       "    </tr>\n",
       "    <tr>\n",
       "      <th>14012</th>\n",
       "      <td>NaN</td>\n",
       "      <td>NaN</td>\n",
       "      <td>Comedy|Drama</td>\n",
       "      <td>11115.0</td>\n",
       "      <td>en</td>\n",
       "      <td>As an ex-gambler teaches a hot-shot college ki...</td>\n",
       "      <td>6.880365</td>\n",
       "      <td>/kHaBqrrozaG7rj6GJg3sUCiM29B.jpg</td>\n",
       "      <td>Andertainment Group|Crescent City Pictures|Tag...</td>\n",
       "      <td>United States of America</td>\n",
       "      <td>2008-01-29</td>\n",
       "      <td>NaN</td>\n",
       "      <td>85.0</td>\n",
       "      <td>English</td>\n",
       "      <td>Released</td>\n",
       "      <td>NaN</td>\n",
       "      <td>Deal</td>\n",
       "      <td>5.2</td>\n",
       "      <td>22.0</td>\n",
       "    </tr>\n",
       "    <tr>\n",
       "      <th>22151</th>\n",
       "      <td>NaN</td>\n",
       "      <td>NaN</td>\n",
       "      <td>Action|Horror|Science Fiction</td>\n",
       "      <td>18440.0</td>\n",
       "      <td>en</td>\n",
       "      <td>When a comet strikes Earth and kicks up a clou...</td>\n",
       "      <td>1.436085</td>\n",
       "      <td>/tWCyKXHuSrQdLAvNeeVJBnhf1Yv.jpg</td>\n",
       "      <td>NaN</td>\n",
       "      <td>United States of America</td>\n",
       "      <td>2007-01-01</td>\n",
       "      <td>NaN</td>\n",
       "      <td>89.0</td>\n",
       "      <td>English</td>\n",
       "      <td>Released</td>\n",
       "      <td>NaN</td>\n",
       "      <td>Days of Darkness</td>\n",
       "      <td>5.0</td>\n",
       "      <td>5.0</td>\n",
       "    </tr>\n",
       "    <tr>\n",
       "      <th>14000</th>\n",
       "      <td>NaN</td>\n",
       "      <td>NaN</td>\n",
       "      <td>Action|Horror|Science Fiction</td>\n",
       "      <td>18440.0</td>\n",
       "      <td>en</td>\n",
       "      <td>When a comet strikes Earth and kicks up a clou...</td>\n",
       "      <td>1.436085</td>\n",
       "      <td>/tWCyKXHuSrQdLAvNeeVJBnhf1Yv.jpg</td>\n",
       "      <td>NaN</td>\n",
       "      <td>United States of America</td>\n",
       "      <td>2007-01-01</td>\n",
       "      <td>NaN</td>\n",
       "      <td>89.0</td>\n",
       "      <td>English</td>\n",
       "      <td>Released</td>\n",
       "      <td>NaN</td>\n",
       "      <td>Days of Darkness</td>\n",
       "      <td>5.0</td>\n",
       "      <td>5.0</td>\n",
       "    </tr>\n",
       "  </tbody>\n",
       "</table>\n",
       "</div>"
      ],
      "text/plain": [
       "      belongs_to_collection  budget_musd                         genres  \\\n",
       "7345                    NaN          NaN           Crime|Drama|Thriller   \n",
       "9165                    NaN          NaN           Crime|Drama|Thriller   \n",
       "24844                   NaN          NaN                   Comedy|Drama   \n",
       "14012                   NaN          NaN                   Comedy|Drama   \n",
       "22151                   NaN          NaN  Action|Horror|Science Fiction   \n",
       "14000                   NaN          NaN  Action|Horror|Science Fiction   \n",
       "\n",
       "            id original_language  \\\n",
       "7345    5511.0                fr   \n",
       "9165    5511.0                fr   \n",
       "24844  11115.0                en   \n",
       "14012  11115.0                en   \n",
       "22151  18440.0                en   \n",
       "14000  18440.0                en   \n",
       "\n",
       "                                                overview  popularity  \\\n",
       "7345   Hitman Jef Costello is a perfectionist who alw...    9.091288   \n",
       "9165   Hitman Jef Costello is a perfectionist who alw...    9.091288   \n",
       "24844  As an ex-gambler teaches a hot-shot college ki...    6.880365   \n",
       "14012  As an ex-gambler teaches a hot-shot college ki...    6.880365   \n",
       "22151  When a comet strikes Earth and kicks up a clou...    1.436085   \n",
       "14000  When a comet strikes Earth and kicks up a clou...    1.436085   \n",
       "\n",
       "                            poster_path  \\\n",
       "7345   /cvNW8IXigbaMNo4gKEIps0NGnhA.jpg   \n",
       "9165   /cvNW8IXigbaMNo4gKEIps0NGnhA.jpg   \n",
       "24844  /kHaBqrrozaG7rj6GJg3sUCiM29B.jpg   \n",
       "14012  /kHaBqrrozaG7rj6GJg3sUCiM29B.jpg   \n",
       "22151  /tWCyKXHuSrQdLAvNeeVJBnhf1Yv.jpg   \n",
       "14000  /tWCyKXHuSrQdLAvNeeVJBnhf1Yv.jpg   \n",
       "\n",
       "                                    production_companies  \\\n",
       "7345   Fida cinematografica|Compagnie Industrielle et...   \n",
       "9165   Fida cinematografica|Compagnie Industrielle et...   \n",
       "24844  Andertainment Group|Crescent City Pictures|Tag...   \n",
       "14012  Andertainment Group|Crescent City Pictures|Tag...   \n",
       "22151                                                NaN   \n",
       "14000                                                NaN   \n",
       "\n",
       "           production_countries release_date  revenue_musd  runtime  \\\n",
       "7345               France|Italy   1967-10-25      0.039481    105.0   \n",
       "9165               France|Italy   1967-10-25      0.039481    105.0   \n",
       "24844  United States of America   2008-01-29           NaN     85.0   \n",
       "14012  United States of America   2008-01-29           NaN     85.0   \n",
       "22151  United States of America   2007-01-01           NaN     89.0   \n",
       "14000  United States of America   2007-01-01           NaN     89.0   \n",
       "\n",
       "      spoken_languages    status  \\\n",
       "7345          Français  Released   \n",
       "9165          Français  Released   \n",
       "24844          English  Released   \n",
       "14012          English  Released   \n",
       "22151          English  Released   \n",
       "14000          English  Released   \n",
       "\n",
       "                                                 tagline             title  \\\n",
       "7345   There is no solitude greater than that of the ...       Le Samouraï   \n",
       "9165   There is no solitude greater than that of the ...       Le Samouraï   \n",
       "24844                                                NaN              Deal   \n",
       "14012                                                NaN              Deal   \n",
       "22151                                                NaN  Days of Darkness   \n",
       "14000                                                NaN  Days of Darkness   \n",
       "\n",
       "       vote_average  vote_count  \n",
       "7345            7.9       187.0  \n",
       "9165            7.9       187.0  \n",
       "24844           5.2        22.0  \n",
       "14012           5.2        22.0  \n",
       "22151           5.0         5.0  \n",
       "14000           5.0         5.0  "
      ]
     },
     "execution_count": 584,
     "metadata": {},
     "output_type": "execute_result"
    }
   ],
   "source": [
    "data[data.duplicated(subset=None,keep=False)].sort_values(by=\"id\").head(6)"
   ]
  },
  {
   "cell_type": "markdown",
   "metadata": {},
   "source": [
    "16. __Identify__ and __remove__ duplicates!"
   ]
  },
  {
   "cell_type": "code",
   "execution_count": 585,
   "metadata": {},
   "outputs": [],
   "source": [
    "data.drop_duplicates(keep='first',inplace=True)"
   ]
  },
  {
   "cell_type": "code",
   "execution_count": 586,
   "metadata": {},
   "outputs": [
    {
     "data": {
      "text/html": [
       "<div>\n",
       "<style scoped>\n",
       "    .dataframe tbody tr th:only-of-type {\n",
       "        vertical-align: middle;\n",
       "    }\n",
       "\n",
       "    .dataframe tbody tr th {\n",
       "        vertical-align: top;\n",
       "    }\n",
       "\n",
       "    .dataframe thead th {\n",
       "        text-align: right;\n",
       "    }\n",
       "</style>\n",
       "<table border=\"1\" class=\"dataframe\">\n",
       "  <thead>\n",
       "    <tr style=\"text-align: right;\">\n",
       "      <th></th>\n",
       "      <th>belongs_to_collection</th>\n",
       "      <th>budget_musd</th>\n",
       "      <th>genres</th>\n",
       "      <th>id</th>\n",
       "      <th>original_language</th>\n",
       "      <th>overview</th>\n",
       "      <th>popularity</th>\n",
       "      <th>poster_path</th>\n",
       "      <th>production_companies</th>\n",
       "      <th>production_countries</th>\n",
       "      <th>release_date</th>\n",
       "      <th>revenue_musd</th>\n",
       "      <th>runtime</th>\n",
       "      <th>spoken_languages</th>\n",
       "      <th>status</th>\n",
       "      <th>tagline</th>\n",
       "      <th>title</th>\n",
       "      <th>vote_average</th>\n",
       "      <th>vote_count</th>\n",
       "    </tr>\n",
       "  </thead>\n",
       "  <tbody>\n",
       "    <tr>\n",
       "      <th>33826</th>\n",
       "      <td>NaN</td>\n",
       "      <td>30.000000</td>\n",
       "      <td>Comedy|Crime|Drama|Romance|Thriller</td>\n",
       "      <td>4912.0</td>\n",
       "      <td>en</td>\n",
       "      <td>Television made him famous, but his biggest hi...</td>\n",
       "      <td>7.645827</td>\n",
       "      <td>/o3Im9nPLAgtlw1j2LtpMebAotSe.jpg</td>\n",
       "      <td>Miramax Films|Allied Filmmakers|Mad Chance</td>\n",
       "      <td>United States of America</td>\n",
       "      <td>2002-12-30</td>\n",
       "      <td>33.013805</td>\n",
       "      <td>113.0</td>\n",
       "      <td>English</td>\n",
       "      <td>Released</td>\n",
       "      <td>Some things are better left top secret.</td>\n",
       "      <td>Confessions of a Dangerous Mind</td>\n",
       "      <td>6.6</td>\n",
       "      <td>281.0</td>\n",
       "    </tr>\n",
       "    <tr>\n",
       "      <th>5865</th>\n",
       "      <td>NaN</td>\n",
       "      <td>30.000000</td>\n",
       "      <td>Comedy|Crime|Drama|Romance|Thriller</td>\n",
       "      <td>4912.0</td>\n",
       "      <td>en</td>\n",
       "      <td>Television made him famous, but his biggest hi...</td>\n",
       "      <td>11.331072</td>\n",
       "      <td>/o3Im9nPLAgtlw1j2LtpMebAotSe.jpg</td>\n",
       "      <td>Miramax Films|Allied Filmmakers|Mad Chance</td>\n",
       "      <td>United States of America</td>\n",
       "      <td>2002-12-30</td>\n",
       "      <td>33.013805</td>\n",
       "      <td>113.0</td>\n",
       "      <td>English</td>\n",
       "      <td>Released</td>\n",
       "      <td>Some things are better left top secret.</td>\n",
       "      <td>Confessions of a Dangerous Mind</td>\n",
       "      <td>6.6</td>\n",
       "      <td>281.0</td>\n",
       "    </tr>\n",
       "    <tr>\n",
       "      <th>4114</th>\n",
       "      <td>Pokémon Collection</td>\n",
       "      <td>16.000000</td>\n",
       "      <td>Adventure|Fantasy|Animation|Action|Family</td>\n",
       "      <td>10991.0</td>\n",
       "      <td>ja</td>\n",
       "      <td>When Molly Hale's sadness of her father's disa...</td>\n",
       "      <td>10.264597</td>\n",
       "      <td>/5ILjS6XB5deiHop8SXPsYxXWVPE.jpg</td>\n",
       "      <td>TV Tokyo|4 Kids Entertainment|Nintendo|Pikachu...</td>\n",
       "      <td>Japan</td>\n",
       "      <td>2000-07-08</td>\n",
       "      <td>68.411275</td>\n",
       "      <td>93.0</td>\n",
       "      <td>English</td>\n",
       "      <td>Released</td>\n",
       "      <td>Pokémon: Spell of the Unknown</td>\n",
       "      <td>Pokémon: Spell of the Unknown</td>\n",
       "      <td>6.0</td>\n",
       "      <td>143.0</td>\n",
       "    </tr>\n",
       "    <tr>\n",
       "      <th>44821</th>\n",
       "      <td>Pokémon Collection</td>\n",
       "      <td>16.000000</td>\n",
       "      <td>Adventure|Fantasy|Animation|Action|Family</td>\n",
       "      <td>10991.0</td>\n",
       "      <td>ja</td>\n",
       "      <td>When Molly Hale's sadness of her father's disa...</td>\n",
       "      <td>6.480376</td>\n",
       "      <td>/5ILjS6XB5deiHop8SXPsYxXWVPE.jpg</td>\n",
       "      <td>TV Tokyo|4 Kids Entertainment|Nintendo|Pikachu...</td>\n",
       "      <td>Japan</td>\n",
       "      <td>2000-07-08</td>\n",
       "      <td>68.411275</td>\n",
       "      <td>93.0</td>\n",
       "      <td>English</td>\n",
       "      <td>Released</td>\n",
       "      <td>Pokémon: Spell of the Unknown</td>\n",
       "      <td>Pokémon: Spell of the Unknown</td>\n",
       "      <td>6.0</td>\n",
       "      <td>144.0</td>\n",
       "    </tr>\n",
       "    <tr>\n",
       "      <th>44826</th>\n",
       "      <td>Pokémon Collection</td>\n",
       "      <td>NaN</td>\n",
       "      <td>Adventure|Fantasy|Animation|Science Fiction|Fa...</td>\n",
       "      <td>12600.0</td>\n",
       "      <td>ja</td>\n",
       "      <td>All your favorite Pokémon characters are back,...</td>\n",
       "      <td>6.080108</td>\n",
       "      <td>/bqL0PVHbQ8Jmw3Njcl38kW0CoeM.jpg</td>\n",
       "      <td>NaN</td>\n",
       "      <td>Japan|United States of America</td>\n",
       "      <td>2001-07-06</td>\n",
       "      <td>28.023563</td>\n",
       "      <td>75.0</td>\n",
       "      <td>日本語</td>\n",
       "      <td>Released</td>\n",
       "      <td>NaN</td>\n",
       "      <td>Pokémon 4Ever: Celebi - Voice of the Forest</td>\n",
       "      <td>5.7</td>\n",
       "      <td>82.0</td>\n",
       "    </tr>\n",
       "    <tr>\n",
       "      <th>5535</th>\n",
       "      <td>Pokémon Collection</td>\n",
       "      <td>NaN</td>\n",
       "      <td>Adventure|Fantasy|Animation|Science Fiction|Fa...</td>\n",
       "      <td>12600.0</td>\n",
       "      <td>ja</td>\n",
       "      <td>All your favorite Pokémon characters are back,...</td>\n",
       "      <td>7.072301</td>\n",
       "      <td>/bqL0PVHbQ8Jmw3Njcl38kW0CoeM.jpg</td>\n",
       "      <td>NaN</td>\n",
       "      <td>Japan|United States of America</td>\n",
       "      <td>2001-07-06</td>\n",
       "      <td>28.023563</td>\n",
       "      <td>75.0</td>\n",
       "      <td>日本語</td>\n",
       "      <td>Released</td>\n",
       "      <td>NaN</td>\n",
       "      <td>Pokémon 4Ever: Celebi - Voice of the Forest</td>\n",
       "      <td>5.7</td>\n",
       "      <td>82.0</td>\n",
       "    </tr>\n",
       "    <tr>\n",
       "      <th>15765</th>\n",
       "      <td>NaN</td>\n",
       "      <td>0.002500</td>\n",
       "      <td>Drama|Comedy|Foreign</td>\n",
       "      <td>13209.0</td>\n",
       "      <td>fa</td>\n",
       "      <td>Since women are banned from soccer matches, Ir...</td>\n",
       "      <td>1.529879</td>\n",
       "      <td>/nfkOkpudNNIjRrf0mTFVoiGzHyc.jpg</td>\n",
       "      <td>Jafar Panahi Film Productions</td>\n",
       "      <td>Iran</td>\n",
       "      <td>2006-05-26</td>\n",
       "      <td>NaN</td>\n",
       "      <td>93.0</td>\n",
       "      <td>فارسی</td>\n",
       "      <td>Released</td>\n",
       "      <td>NaN</td>\n",
       "      <td>Offside</td>\n",
       "      <td>6.7</td>\n",
       "      <td>27.0</td>\n",
       "    </tr>\n",
       "    <tr>\n",
       "      <th>11342</th>\n",
       "      <td>NaN</td>\n",
       "      <td>0.002500</td>\n",
       "      <td>Drama|Comedy|Foreign</td>\n",
       "      <td>13209.0</td>\n",
       "      <td>fa</td>\n",
       "      <td>Since women are banned from soccer matches, Ir...</td>\n",
       "      <td>1.528960</td>\n",
       "      <td>/nfkOkpudNNIjRrf0mTFVoiGzHyc.jpg</td>\n",
       "      <td>Jafar Panahi Film Productions</td>\n",
       "      <td>Iran</td>\n",
       "      <td>2006-05-26</td>\n",
       "      <td>NaN</td>\n",
       "      <td>93.0</td>\n",
       "      <td>فارسی</td>\n",
       "      <td>Released</td>\n",
       "      <td>NaN</td>\n",
       "      <td>Offside</td>\n",
       "      <td>6.7</td>\n",
       "      <td>27.0</td>\n",
       "    </tr>\n",
       "    <tr>\n",
       "      <th>10419</th>\n",
       "      <td>NaN</td>\n",
       "      <td>1.600000</td>\n",
       "      <td>Drama|Crime|Mystery</td>\n",
       "      <td>14788.0</td>\n",
       "      <td>en</td>\n",
       "      <td>Set against the backdrop of a decaying Midwest...</td>\n",
       "      <td>3.185256</td>\n",
       "      <td>/w56oo9nREcF54sNXVYuE9QxZFjT.jpg</td>\n",
       "      <td>Magnolia Pictures|Extension 765</td>\n",
       "      <td>United States of America</td>\n",
       "      <td>2005-09-03</td>\n",
       "      <td>NaN</td>\n",
       "      <td>73.0</td>\n",
       "      <td>English</td>\n",
       "      <td>Released</td>\n",
       "      <td>NaN</td>\n",
       "      <td>Bubble</td>\n",
       "      <td>6.4</td>\n",
       "      <td>36.0</td>\n",
       "    </tr>\n",
       "    <tr>\n",
       "      <th>12066</th>\n",
       "      <td>NaN</td>\n",
       "      <td>1.600000</td>\n",
       "      <td>Drama|Crime|Mystery</td>\n",
       "      <td>14788.0</td>\n",
       "      <td>en</td>\n",
       "      <td>Set against the backdrop of a decaying Midwest...</td>\n",
       "      <td>3.008299</td>\n",
       "      <td>/w56oo9nREcF54sNXVYuE9QxZFjT.jpg</td>\n",
       "      <td>Magnolia Pictures|Extension 765</td>\n",
       "      <td>United States of America</td>\n",
       "      <td>2005-09-03</td>\n",
       "      <td>NaN</td>\n",
       "      <td>73.0</td>\n",
       "      <td>English</td>\n",
       "      <td>Released</td>\n",
       "      <td>NaN</td>\n",
       "      <td>Bubble</td>\n",
       "      <td>6.4</td>\n",
       "      <td>36.0</td>\n",
       "    </tr>\n",
       "    <tr>\n",
       "      <th>5130</th>\n",
       "      <td>NaN</td>\n",
       "      <td>26.000000</td>\n",
       "      <td>Adventure|Family|Science Fiction|Thriller</td>\n",
       "      <td>15028.0</td>\n",
       "      <td>en</td>\n",
       "      <td>Until now, Zak Gibbs' greatest challenge has b...</td>\n",
       "      <td>5.373623</td>\n",
       "      <td>/xGhDPrBz9mJN8CsIjA23jQSd3sc.jpg</td>\n",
       "      <td>Paramount Pictures|Nickelodeon Movies|Valhalla...</td>\n",
       "      <td>United States of America</td>\n",
       "      <td>2002-03-17</td>\n",
       "      <td>38.793283</td>\n",
       "      <td>94.0</td>\n",
       "      <td>Český|English</td>\n",
       "      <td>Released</td>\n",
       "      <td>The adventure of a lifetime, in a few mere sec...</td>\n",
       "      <td>Clockstoppers</td>\n",
       "      <td>4.9</td>\n",
       "      <td>89.0</td>\n",
       "    </tr>\n",
       "    <tr>\n",
       "      <th>33743</th>\n",
       "      <td>NaN</td>\n",
       "      <td>26.000000</td>\n",
       "      <td>Adventure|Family|Science Fiction|Thriller</td>\n",
       "      <td>15028.0</td>\n",
       "      <td>en</td>\n",
       "      <td>Until now, Zak Gibbs' greatest challenge has b...</td>\n",
       "      <td>4.920175</td>\n",
       "      <td>/xGhDPrBz9mJN8CsIjA23jQSd3sc.jpg</td>\n",
       "      <td>Paramount Pictures|Nickelodeon Movies|Valhalla...</td>\n",
       "      <td>United States of America</td>\n",
       "      <td>2002-03-17</td>\n",
       "      <td>38.793283</td>\n",
       "      <td>94.0</td>\n",
       "      <td>Český|English</td>\n",
       "      <td>Released</td>\n",
       "      <td>The adventure of a lifetime, in a few mere sec...</td>\n",
       "      <td>Clockstoppers</td>\n",
       "      <td>4.9</td>\n",
       "      <td>90.0</td>\n",
       "    </tr>\n",
       "    <tr>\n",
       "      <th>949</th>\n",
       "      <td>NaN</td>\n",
       "      <td>0.000004</td>\n",
       "      <td>Drama|Romance|War</td>\n",
       "      <td>22649.0</td>\n",
       "      <td>en</td>\n",
       "      <td>British nurse Catherine Barkley (Helen Hayes) ...</td>\n",
       "      <td>1.914697</td>\n",
       "      <td>/k0MF0IIbJ2PfOIku2KyraXL72d8.jpg</td>\n",
       "      <td>Paramount Pictures</td>\n",
       "      <td>United States of America</td>\n",
       "      <td>1932-12-08</td>\n",
       "      <td>0.000025</td>\n",
       "      <td>89.0</td>\n",
       "      <td>English</td>\n",
       "      <td>Released</td>\n",
       "      <td>Every woman who has loved will understand</td>\n",
       "      <td>A Farewell to Arms</td>\n",
       "      <td>6.2</td>\n",
       "      <td>29.0</td>\n",
       "    </tr>\n",
       "    <tr>\n",
       "      <th>15074</th>\n",
       "      <td>NaN</td>\n",
       "      <td>0.000004</td>\n",
       "      <td>Drama|Romance|War</td>\n",
       "      <td>22649.0</td>\n",
       "      <td>en</td>\n",
       "      <td>British nurse Catherine Barkley (Helen Hayes) ...</td>\n",
       "      <td>2.411191</td>\n",
       "      <td>/k0MF0IIbJ2PfOIku2KyraXL72d8.jpg</td>\n",
       "      <td>Paramount Pictures</td>\n",
       "      <td>United States of America</td>\n",
       "      <td>1932-12-08</td>\n",
       "      <td>0.000025</td>\n",
       "      <td>89.0</td>\n",
       "      <td>English</td>\n",
       "      <td>Released</td>\n",
       "      <td>Every woman who has loved will understand</td>\n",
       "      <td>A Farewell to Arms</td>\n",
       "      <td>6.2</td>\n",
       "      <td>29.0</td>\n",
       "    </tr>\n",
       "    <tr>\n",
       "      <th>9576</th>\n",
       "      <td>NaN</td>\n",
       "      <td>10.000000</td>\n",
       "      <td>Drama|Horror|Music|Romance|TV Movie</td>\n",
       "      <td>69234.0</td>\n",
       "      <td>en</td>\n",
       "      <td>Count de Chagnie has discovered Christine's si...</td>\n",
       "      <td>0.441872</td>\n",
       "      <td>/ole8e9YQwvHoKVpWO0lgfLFFemc.jpg</td>\n",
       "      <td>Beta Film|Reteitalia|TF1|Hexatel|Saban/Scheric...</td>\n",
       "      <td>France|Germany|Italy|United States of America</td>\n",
       "      <td>1990-03-18</td>\n",
       "      <td>NaN</td>\n",
       "      <td>168.0</td>\n",
       "      <td>English|Italiano</td>\n",
       "      <td>Released</td>\n",
       "      <td>NaN</td>\n",
       "      <td>The Phantom of the Opera</td>\n",
       "      <td>5.0</td>\n",
       "      <td>3.0</td>\n",
       "    </tr>\n",
       "    <tr>\n",
       "      <th>26625</th>\n",
       "      <td>NaN</td>\n",
       "      <td>10.000000</td>\n",
       "      <td>Drama|Horror|Music|Romance|TV Movie</td>\n",
       "      <td>69234.0</td>\n",
       "      <td>en</td>\n",
       "      <td>Count de Chagnie has discovered Christine's si...</td>\n",
       "      <td>0.438490</td>\n",
       "      <td>/ole8e9YQwvHoKVpWO0lgfLFFemc.jpg</td>\n",
       "      <td>Beta Film|Reteitalia|TF1|Hexatel|Saban/Scheric...</td>\n",
       "      <td>France|Germany|Italy|United States of America</td>\n",
       "      <td>1990-03-18</td>\n",
       "      <td>NaN</td>\n",
       "      <td>168.0</td>\n",
       "      <td>English|Italiano</td>\n",
       "      <td>Released</td>\n",
       "      <td>NaN</td>\n",
       "      <td>The Phantom of the Opera</td>\n",
       "      <td>5.0</td>\n",
       "      <td>3.0</td>\n",
       "    </tr>\n",
       "    <tr>\n",
       "      <th>20843</th>\n",
       "      <td>NaN</td>\n",
       "      <td>40.000000</td>\n",
       "      <td>Adventure|Drama</td>\n",
       "      <td>77221.0</td>\n",
       "      <td>en</td>\n",
       "      <td>On the Arabian Peninsula in the 1930s, two war...</td>\n",
       "      <td>6.475665</td>\n",
       "      <td>/iQd7zWhSeCe3cgdPcLIDXjGfdzL.jpg</td>\n",
       "      <td>France 2 Cinéma|Quinta Communications|Carthago...</td>\n",
       "      <td>France|Italy|Qatar|Tunisia</td>\n",
       "      <td>2011-12-21</td>\n",
       "      <td>5.446000</td>\n",
       "      <td>130.0</td>\n",
       "      <td>English</td>\n",
       "      <td>Released</td>\n",
       "      <td>NaN</td>\n",
       "      <td>Black Gold</td>\n",
       "      <td>5.9</td>\n",
       "      <td>77.0</td>\n",
       "    </tr>\n",
       "    <tr>\n",
       "      <th>11155</th>\n",
       "      <td>NaN</td>\n",
       "      <td>40.000000</td>\n",
       "      <td>Adventure|Drama</td>\n",
       "      <td>77221.0</td>\n",
       "      <td>en</td>\n",
       "      <td>On the Arabian Peninsula in the 1930s, two war...</td>\n",
       "      <td>6.652197</td>\n",
       "      <td>/iQd7zWhSeCe3cgdPcLIDXjGfdzL.jpg</td>\n",
       "      <td>France 2 Cinéma|Quinta Communications|Carthago...</td>\n",
       "      <td>France|Italy|Qatar|Tunisia</td>\n",
       "      <td>2011-12-21</td>\n",
       "      <td>5.446000</td>\n",
       "      <td>130.0</td>\n",
       "      <td>English</td>\n",
       "      <td>Released</td>\n",
       "      <td>NaN</td>\n",
       "      <td>Black Gold</td>\n",
       "      <td>5.9</td>\n",
       "      <td>77.0</td>\n",
       "    </tr>\n",
       "    <tr>\n",
       "      <th>21116</th>\n",
       "      <td>NaN</td>\n",
       "      <td>NaN</td>\n",
       "      <td>Documentary</td>\n",
       "      <td>84198.0</td>\n",
       "      <td>en</td>\n",
       "      <td>Using personal stories, this powerful document...</td>\n",
       "      <td>1.673307</td>\n",
       "      <td>/jn8L1QdWWX5c0NUOLjzaSXtZrbt.jpg</td>\n",
       "      <td>NaN</td>\n",
       "      <td>United States of America</td>\n",
       "      <td>2012-03-22</td>\n",
       "      <td>NaN</td>\n",
       "      <td>84.0</td>\n",
       "      <td>English</td>\n",
       "      <td>Released</td>\n",
       "      <td>One Nation. Underfed.</td>\n",
       "      <td>A Place at the Table</td>\n",
       "      <td>6.9</td>\n",
       "      <td>7.0</td>\n",
       "    </tr>\n",
       "    <tr>\n",
       "      <th>2564</th>\n",
       "      <td>NaN</td>\n",
       "      <td>NaN</td>\n",
       "      <td>Documentary</td>\n",
       "      <td>84198.0</td>\n",
       "      <td>en</td>\n",
       "      <td>Using personal stories, this powerful document...</td>\n",
       "      <td>0.501046</td>\n",
       "      <td>/jn8L1QdWWX5c0NUOLjzaSXtZrbt.jpg</td>\n",
       "      <td>NaN</td>\n",
       "      <td>United States of America</td>\n",
       "      <td>2012-03-22</td>\n",
       "      <td>NaN</td>\n",
       "      <td>84.0</td>\n",
       "      <td>English</td>\n",
       "      <td>Released</td>\n",
       "      <td>One Nation. Underfed.</td>\n",
       "      <td>A Place at the Table</td>\n",
       "      <td>6.9</td>\n",
       "      <td>7.0</td>\n",
       "    </tr>\n",
       "    <tr>\n",
       "      <th>20899</th>\n",
       "      <td>NaN</td>\n",
       "      <td>NaN</td>\n",
       "      <td>Drama</td>\n",
       "      <td>109962.0</td>\n",
       "      <td>en</td>\n",
       "      <td>Two literary women compete for 20 years: one w...</td>\n",
       "      <td>10.396878</td>\n",
       "      <td>/tOflyY8eUFWubLKJH7fKg4KwpCl.jpg</td>\n",
       "      <td>Metro-Goldwyn-Mayer (MGM)|Jaquet</td>\n",
       "      <td>United States of America</td>\n",
       "      <td>1981-09-23</td>\n",
       "      <td>NaN</td>\n",
       "      <td>115.0</td>\n",
       "      <td>English</td>\n",
       "      <td>Released</td>\n",
       "      <td>From the very beginning, they knew they'd be f...</td>\n",
       "      <td>Rich and Famous</td>\n",
       "      <td>4.9</td>\n",
       "      <td>7.0</td>\n",
       "    </tr>\n",
       "    <tr>\n",
       "      <th>5710</th>\n",
       "      <td>NaN</td>\n",
       "      <td>NaN</td>\n",
       "      <td>Drama</td>\n",
       "      <td>109962.0</td>\n",
       "      <td>en</td>\n",
       "      <td>Two literary women compete for 20 years: one w...</td>\n",
       "      <td>12.180836</td>\n",
       "      <td>/tOflyY8eUFWubLKJH7fKg4KwpCl.jpg</td>\n",
       "      <td>Metro-Goldwyn-Mayer (MGM)|Jaquet</td>\n",
       "      <td>United States of America</td>\n",
       "      <td>1981-09-23</td>\n",
       "      <td>NaN</td>\n",
       "      <td>115.0</td>\n",
       "      <td>English</td>\n",
       "      <td>Released</td>\n",
       "      <td>From the very beginning, they knew they'd be f...</td>\n",
       "      <td>Rich and Famous</td>\n",
       "      <td>4.9</td>\n",
       "      <td>7.0</td>\n",
       "    </tr>\n",
       "    <tr>\n",
       "      <th>23534</th>\n",
       "      <td>NaN</td>\n",
       "      <td>3.512454</td>\n",
       "      <td>Drama</td>\n",
       "      <td>110428.0</td>\n",
       "      <td>fr</td>\n",
       "      <td>Winter, 1915. Confined by her family to an asy...</td>\n",
       "      <td>0.110065</td>\n",
       "      <td>/sGMPDg6je1zKi0TiX9b4pP6yN02.jpg</td>\n",
       "      <td>Canal+|Arte France Cinéma|3B Productions|C.R.R...</td>\n",
       "      <td>France</td>\n",
       "      <td>2013-03-13</td>\n",
       "      <td>0.115860</td>\n",
       "      <td>95.0</td>\n",
       "      <td>Français</td>\n",
       "      <td>Released</td>\n",
       "      <td>NaN</td>\n",
       "      <td>Camille Claudel 1915</td>\n",
       "      <td>7.0</td>\n",
       "      <td>20.0</td>\n",
       "    </tr>\n",
       "    <tr>\n",
       "      <th>4356</th>\n",
       "      <td>NaN</td>\n",
       "      <td>3.512454</td>\n",
       "      <td>Drama</td>\n",
       "      <td>110428.0</td>\n",
       "      <td>fr</td>\n",
       "      <td>Winter, 1915. Confined by her family to an asy...</td>\n",
       "      <td>0.134014</td>\n",
       "      <td>/sGMPDg6je1zKi0TiX9b4pP6yN02.jpg</td>\n",
       "      <td>Canal+|Arte France Cinéma|3B Productions|C.R.R...</td>\n",
       "      <td>France</td>\n",
       "      <td>2013-03-13</td>\n",
       "      <td>0.115860</td>\n",
       "      <td>95.0</td>\n",
       "      <td>Français</td>\n",
       "      <td>Released</td>\n",
       "      <td>NaN</td>\n",
       "      <td>Camille Claudel 1915</td>\n",
       "      <td>7.0</td>\n",
       "      <td>20.0</td>\n",
       "    </tr>\n",
       "    <tr>\n",
       "      <th>30001</th>\n",
       "      <td>NaN</td>\n",
       "      <td>NaN</td>\n",
       "      <td>Drama</td>\n",
       "      <td>132641.0</td>\n",
       "      <td>ja</td>\n",
       "      <td>Ten years into a marriage, the wife is disappo...</td>\n",
       "      <td>0.619388</td>\n",
       "      <td>/z9WiHt5uQjs8L8tyBpRBKzlheF2.jpg</td>\n",
       "      <td>Toho Company</td>\n",
       "      <td>Japan</td>\n",
       "      <td>1953-04-29</td>\n",
       "      <td>NaN</td>\n",
       "      <td>89.0</td>\n",
       "      <td>日本語</td>\n",
       "      <td>Released</td>\n",
       "      <td>NaN</td>\n",
       "      <td>Wife</td>\n",
       "      <td>NaN</td>\n",
       "      <td>0.0</td>\n",
       "    </tr>\n",
       "    <tr>\n",
       "      <th>838</th>\n",
       "      <td>NaN</td>\n",
       "      <td>NaN</td>\n",
       "      <td>Drama</td>\n",
       "      <td>132641.0</td>\n",
       "      <td>ja</td>\n",
       "      <td>Ten years into a marriage, the wife is disappo...</td>\n",
       "      <td>0.096079</td>\n",
       "      <td>/z9WiHt5uQjs8L8tyBpRBKzlheF2.jpg</td>\n",
       "      <td>Toho Company</td>\n",
       "      <td>Japan</td>\n",
       "      <td>1953-04-29</td>\n",
       "      <td>NaN</td>\n",
       "      <td>89.0</td>\n",
       "      <td>日本語</td>\n",
       "      <td>Released</td>\n",
       "      <td>NaN</td>\n",
       "      <td>Wife</td>\n",
       "      <td>NaN</td>\n",
       "      <td>0.0</td>\n",
       "    </tr>\n",
       "    <tr>\n",
       "      <th>19730</th>\n",
       "      <td>NaN</td>\n",
       "      <td>NaN</td>\n",
       "      <td>Carousel Productions|Vision View Entertainment...</td>\n",
       "      <td>NaN</td>\n",
       "      <td>104.0</td>\n",
       "      <td>Released</td>\n",
       "      <td>NaN</td>\n",
       "      <td>Midnight Man</td>\n",
       "      <td>NaN</td>\n",
       "      <td>NaN</td>\n",
       "      <td>NaT</td>\n",
       "      <td>NaN</td>\n",
       "      <td>NaN</td>\n",
       "      <td>NaN</td>\n",
       "      <td>NaN</td>\n",
       "      <td>NaN</td>\n",
       "      <td>NaN</td>\n",
       "      <td>NaN</td>\n",
       "      <td>NaN</td>\n",
       "    </tr>\n",
       "    <tr>\n",
       "      <th>29503</th>\n",
       "      <td>NaN</td>\n",
       "      <td>NaN</td>\n",
       "      <td>Aniplex|GoHands|BROSTA TV|Mardock Scramble Pro...</td>\n",
       "      <td>NaN</td>\n",
       "      <td>68.0</td>\n",
       "      <td>Released</td>\n",
       "      <td>NaN</td>\n",
       "      <td>Mardock Scramble: The Third Exhaust</td>\n",
       "      <td>NaN</td>\n",
       "      <td>NaN</td>\n",
       "      <td>NaT</td>\n",
       "      <td>NaN</td>\n",
       "      <td>NaN</td>\n",
       "      <td>NaN</td>\n",
       "      <td>NaN</td>\n",
       "      <td>NaN</td>\n",
       "      <td>NaN</td>\n",
       "      <td>NaN</td>\n",
       "      <td>NaN</td>\n",
       "    </tr>\n",
       "    <tr>\n",
       "      <th>35587</th>\n",
       "      <td>NaN</td>\n",
       "      <td>NaN</td>\n",
       "      <td>Odyssey Media|Pulser Productions|Rogue State|T...</td>\n",
       "      <td>NaN</td>\n",
       "      <td>82.0</td>\n",
       "      <td>Released</td>\n",
       "      <td>NaN</td>\n",
       "      <td>Avalanche Sharks</td>\n",
       "      <td>NaN</td>\n",
       "      <td>NaN</td>\n",
       "      <td>NaT</td>\n",
       "      <td>NaN</td>\n",
       "      <td>NaN</td>\n",
       "      <td>NaN</td>\n",
       "      <td>NaN</td>\n",
       "      <td>NaN</td>\n",
       "      <td>NaN</td>\n",
       "      <td>NaN</td>\n",
       "      <td>NaN</td>\n",
       "    </tr>\n",
       "  </tbody>\n",
       "</table>\n",
       "</div>"
      ],
      "text/plain": [
       "      belongs_to_collection  budget_musd  \\\n",
       "33826                   NaN    30.000000   \n",
       "5865                    NaN    30.000000   \n",
       "4114     Pokémon Collection    16.000000   \n",
       "44821    Pokémon Collection    16.000000   \n",
       "44826    Pokémon Collection          NaN   \n",
       "5535     Pokémon Collection          NaN   \n",
       "15765                   NaN     0.002500   \n",
       "11342                   NaN     0.002500   \n",
       "10419                   NaN     1.600000   \n",
       "12066                   NaN     1.600000   \n",
       "5130                    NaN    26.000000   \n",
       "33743                   NaN    26.000000   \n",
       "949                     NaN     0.000004   \n",
       "15074                   NaN     0.000004   \n",
       "9576                    NaN    10.000000   \n",
       "26625                   NaN    10.000000   \n",
       "20843                   NaN    40.000000   \n",
       "11155                   NaN    40.000000   \n",
       "21116                   NaN          NaN   \n",
       "2564                    NaN          NaN   \n",
       "20899                   NaN          NaN   \n",
       "5710                    NaN          NaN   \n",
       "23534                   NaN     3.512454   \n",
       "4356                    NaN     3.512454   \n",
       "30001                   NaN          NaN   \n",
       "838                     NaN          NaN   \n",
       "19730                   NaN          NaN   \n",
       "29503                   NaN          NaN   \n",
       "35587                   NaN          NaN   \n",
       "\n",
       "                                                  genres        id  \\\n",
       "33826                Comedy|Crime|Drama|Romance|Thriller    4912.0   \n",
       "5865                 Comedy|Crime|Drama|Romance|Thriller    4912.0   \n",
       "4114           Adventure|Fantasy|Animation|Action|Family   10991.0   \n",
       "44821          Adventure|Fantasy|Animation|Action|Family   10991.0   \n",
       "44826  Adventure|Fantasy|Animation|Science Fiction|Fa...   12600.0   \n",
       "5535   Adventure|Fantasy|Animation|Science Fiction|Fa...   12600.0   \n",
       "15765                               Drama|Comedy|Foreign   13209.0   \n",
       "11342                               Drama|Comedy|Foreign   13209.0   \n",
       "10419                                Drama|Crime|Mystery   14788.0   \n",
       "12066                                Drama|Crime|Mystery   14788.0   \n",
       "5130           Adventure|Family|Science Fiction|Thriller   15028.0   \n",
       "33743          Adventure|Family|Science Fiction|Thriller   15028.0   \n",
       "949                                    Drama|Romance|War   22649.0   \n",
       "15074                                  Drama|Romance|War   22649.0   \n",
       "9576                 Drama|Horror|Music|Romance|TV Movie   69234.0   \n",
       "26625                Drama|Horror|Music|Romance|TV Movie   69234.0   \n",
       "20843                                    Adventure|Drama   77221.0   \n",
       "11155                                    Adventure|Drama   77221.0   \n",
       "21116                                        Documentary   84198.0   \n",
       "2564                                         Documentary   84198.0   \n",
       "20899                                              Drama  109962.0   \n",
       "5710                                               Drama  109962.0   \n",
       "23534                                              Drama  110428.0   \n",
       "4356                                               Drama  110428.0   \n",
       "30001                                              Drama  132641.0   \n",
       "838                                                Drama  132641.0   \n",
       "19730  Carousel Productions|Vision View Entertainment...       NaN   \n",
       "29503  Aniplex|GoHands|BROSTA TV|Mardock Scramble Pro...       NaN   \n",
       "35587  Odyssey Media|Pulser Productions|Rogue State|T...       NaN   \n",
       "\n",
       "      original_language                                           overview  \\\n",
       "33826                en  Television made him famous, but his biggest hi...   \n",
       "5865                 en  Television made him famous, but his biggest hi...   \n",
       "4114                 ja  When Molly Hale's sadness of her father's disa...   \n",
       "44821                ja  When Molly Hale's sadness of her father's disa...   \n",
       "44826                ja  All your favorite Pokémon characters are back,...   \n",
       "5535                 ja  All your favorite Pokémon characters are back,...   \n",
       "15765                fa  Since women are banned from soccer matches, Ir...   \n",
       "11342                fa  Since women are banned from soccer matches, Ir...   \n",
       "10419                en  Set against the backdrop of a decaying Midwest...   \n",
       "12066                en  Set against the backdrop of a decaying Midwest...   \n",
       "5130                 en  Until now, Zak Gibbs' greatest challenge has b...   \n",
       "33743                en  Until now, Zak Gibbs' greatest challenge has b...   \n",
       "949                  en  British nurse Catherine Barkley (Helen Hayes) ...   \n",
       "15074                en  British nurse Catherine Barkley (Helen Hayes) ...   \n",
       "9576                 en  Count de Chagnie has discovered Christine's si...   \n",
       "26625                en  Count de Chagnie has discovered Christine's si...   \n",
       "20843                en  On the Arabian Peninsula in the 1930s, two war...   \n",
       "11155                en  On the Arabian Peninsula in the 1930s, two war...   \n",
       "21116                en  Using personal stories, this powerful document...   \n",
       "2564                 en  Using personal stories, this powerful document...   \n",
       "20899                en  Two literary women compete for 20 years: one w...   \n",
       "5710                 en  Two literary women compete for 20 years: one w...   \n",
       "23534                fr  Winter, 1915. Confined by her family to an asy...   \n",
       "4356                 fr  Winter, 1915. Confined by her family to an asy...   \n",
       "30001                ja  Ten years into a marriage, the wife is disappo...   \n",
       "838                  ja  Ten years into a marriage, the wife is disappo...   \n",
       "19730             104.0                                           Released   \n",
       "29503              68.0                                           Released   \n",
       "35587              82.0                                           Released   \n",
       "\n",
       "       popularity                          poster_path  \\\n",
       "33826    7.645827     /o3Im9nPLAgtlw1j2LtpMebAotSe.jpg   \n",
       "5865    11.331072     /o3Im9nPLAgtlw1j2LtpMebAotSe.jpg   \n",
       "4114    10.264597     /5ILjS6XB5deiHop8SXPsYxXWVPE.jpg   \n",
       "44821    6.480376     /5ILjS6XB5deiHop8SXPsYxXWVPE.jpg   \n",
       "44826    6.080108     /bqL0PVHbQ8Jmw3Njcl38kW0CoeM.jpg   \n",
       "5535     7.072301     /bqL0PVHbQ8Jmw3Njcl38kW0CoeM.jpg   \n",
       "15765    1.529879     /nfkOkpudNNIjRrf0mTFVoiGzHyc.jpg   \n",
       "11342    1.528960     /nfkOkpudNNIjRrf0mTFVoiGzHyc.jpg   \n",
       "10419    3.185256     /w56oo9nREcF54sNXVYuE9QxZFjT.jpg   \n",
       "12066    3.008299     /w56oo9nREcF54sNXVYuE9QxZFjT.jpg   \n",
       "5130     5.373623     /xGhDPrBz9mJN8CsIjA23jQSd3sc.jpg   \n",
       "33743    4.920175     /xGhDPrBz9mJN8CsIjA23jQSd3sc.jpg   \n",
       "949      1.914697     /k0MF0IIbJ2PfOIku2KyraXL72d8.jpg   \n",
       "15074    2.411191     /k0MF0IIbJ2PfOIku2KyraXL72d8.jpg   \n",
       "9576     0.441872     /ole8e9YQwvHoKVpWO0lgfLFFemc.jpg   \n",
       "26625    0.438490     /ole8e9YQwvHoKVpWO0lgfLFFemc.jpg   \n",
       "20843    6.475665     /iQd7zWhSeCe3cgdPcLIDXjGfdzL.jpg   \n",
       "11155    6.652197     /iQd7zWhSeCe3cgdPcLIDXjGfdzL.jpg   \n",
       "21116    1.673307     /jn8L1QdWWX5c0NUOLjzaSXtZrbt.jpg   \n",
       "2564     0.501046     /jn8L1QdWWX5c0NUOLjzaSXtZrbt.jpg   \n",
       "20899   10.396878     /tOflyY8eUFWubLKJH7fKg4KwpCl.jpg   \n",
       "5710    12.180836     /tOflyY8eUFWubLKJH7fKg4KwpCl.jpg   \n",
       "23534    0.110065     /sGMPDg6je1zKi0TiX9b4pP6yN02.jpg   \n",
       "4356     0.134014     /sGMPDg6je1zKi0TiX9b4pP6yN02.jpg   \n",
       "30001    0.619388     /z9WiHt5uQjs8L8tyBpRBKzlheF2.jpg   \n",
       "838      0.096079     /z9WiHt5uQjs8L8tyBpRBKzlheF2.jpg   \n",
       "19730         NaN                         Midnight Man   \n",
       "29503         NaN  Mardock Scramble: The Third Exhaust   \n",
       "35587         NaN                     Avalanche Sharks   \n",
       "\n",
       "                                    production_companies  \\\n",
       "33826         Miramax Films|Allied Filmmakers|Mad Chance   \n",
       "5865          Miramax Films|Allied Filmmakers|Mad Chance   \n",
       "4114   TV Tokyo|4 Kids Entertainment|Nintendo|Pikachu...   \n",
       "44821  TV Tokyo|4 Kids Entertainment|Nintendo|Pikachu...   \n",
       "44826                                                NaN   \n",
       "5535                                                 NaN   \n",
       "15765                      Jafar Panahi Film Productions   \n",
       "11342                      Jafar Panahi Film Productions   \n",
       "10419                    Magnolia Pictures|Extension 765   \n",
       "12066                    Magnolia Pictures|Extension 765   \n",
       "5130   Paramount Pictures|Nickelodeon Movies|Valhalla...   \n",
       "33743  Paramount Pictures|Nickelodeon Movies|Valhalla...   \n",
       "949                                   Paramount Pictures   \n",
       "15074                                 Paramount Pictures   \n",
       "9576   Beta Film|Reteitalia|TF1|Hexatel|Saban/Scheric...   \n",
       "26625  Beta Film|Reteitalia|TF1|Hexatel|Saban/Scheric...   \n",
       "20843  France 2 Cinéma|Quinta Communications|Carthago...   \n",
       "11155  France 2 Cinéma|Quinta Communications|Carthago...   \n",
       "21116                                                NaN   \n",
       "2564                                                 NaN   \n",
       "20899                   Metro-Goldwyn-Mayer (MGM)|Jaquet   \n",
       "5710                    Metro-Goldwyn-Mayer (MGM)|Jaquet   \n",
       "23534  Canal+|Arte France Cinéma|3B Productions|C.R.R...   \n",
       "4356   Canal+|Arte France Cinéma|3B Productions|C.R.R...   \n",
       "30001                                       Toho Company   \n",
       "838                                         Toho Company   \n",
       "19730                                                NaN   \n",
       "29503                                                NaN   \n",
       "35587                                                NaN   \n",
       "\n",
       "                                production_countries release_date  \\\n",
       "33826                       United States of America   2002-12-30   \n",
       "5865                        United States of America   2002-12-30   \n",
       "4114                                           Japan   2000-07-08   \n",
       "44821                                          Japan   2000-07-08   \n",
       "44826                 Japan|United States of America   2001-07-06   \n",
       "5535                  Japan|United States of America   2001-07-06   \n",
       "15765                                           Iran   2006-05-26   \n",
       "11342                                           Iran   2006-05-26   \n",
       "10419                       United States of America   2005-09-03   \n",
       "12066                       United States of America   2005-09-03   \n",
       "5130                        United States of America   2002-03-17   \n",
       "33743                       United States of America   2002-03-17   \n",
       "949                         United States of America   1932-12-08   \n",
       "15074                       United States of America   1932-12-08   \n",
       "9576   France|Germany|Italy|United States of America   1990-03-18   \n",
       "26625  France|Germany|Italy|United States of America   1990-03-18   \n",
       "20843                     France|Italy|Qatar|Tunisia   2011-12-21   \n",
       "11155                     France|Italy|Qatar|Tunisia   2011-12-21   \n",
       "21116                       United States of America   2012-03-22   \n",
       "2564                        United States of America   2012-03-22   \n",
       "20899                       United States of America   1981-09-23   \n",
       "5710                        United States of America   1981-09-23   \n",
       "23534                                         France   2013-03-13   \n",
       "4356                                          France   2013-03-13   \n",
       "30001                                          Japan   1953-04-29   \n",
       "838                                            Japan   1953-04-29   \n",
       "19730                                            NaN          NaT   \n",
       "29503                                            NaN          NaT   \n",
       "35587                                            NaN          NaT   \n",
       "\n",
       "       revenue_musd  runtime  spoken_languages    status  \\\n",
       "33826     33.013805    113.0           English  Released   \n",
       "5865      33.013805    113.0           English  Released   \n",
       "4114      68.411275     93.0           English  Released   \n",
       "44821     68.411275     93.0           English  Released   \n",
       "44826     28.023563     75.0               日本語  Released   \n",
       "5535      28.023563     75.0               日本語  Released   \n",
       "15765           NaN     93.0             فارسی  Released   \n",
       "11342           NaN     93.0             فارسی  Released   \n",
       "10419           NaN     73.0           English  Released   \n",
       "12066           NaN     73.0           English  Released   \n",
       "5130      38.793283     94.0     Český|English  Released   \n",
       "33743     38.793283     94.0     Český|English  Released   \n",
       "949        0.000025     89.0           English  Released   \n",
       "15074      0.000025     89.0           English  Released   \n",
       "9576            NaN    168.0  English|Italiano  Released   \n",
       "26625           NaN    168.0  English|Italiano  Released   \n",
       "20843      5.446000    130.0           English  Released   \n",
       "11155      5.446000    130.0           English  Released   \n",
       "21116           NaN     84.0           English  Released   \n",
       "2564            NaN     84.0           English  Released   \n",
       "20899           NaN    115.0           English  Released   \n",
       "5710            NaN    115.0           English  Released   \n",
       "23534      0.115860     95.0          Français  Released   \n",
       "4356       0.115860     95.0          Français  Released   \n",
       "30001           NaN     89.0               日本語  Released   \n",
       "838             NaN     89.0               日本語  Released   \n",
       "19730           NaN      NaN               NaN       NaN   \n",
       "29503           NaN      NaN               NaN       NaN   \n",
       "35587           NaN      NaN               NaN       NaN   \n",
       "\n",
       "                                                 tagline  \\\n",
       "33826            Some things are better left top secret.   \n",
       "5865             Some things are better left top secret.   \n",
       "4114                       Pokémon: Spell of the Unknown   \n",
       "44821                      Pokémon: Spell of the Unknown   \n",
       "44826                                                NaN   \n",
       "5535                                                 NaN   \n",
       "15765                                                NaN   \n",
       "11342                                                NaN   \n",
       "10419                                                NaN   \n",
       "12066                                                NaN   \n",
       "5130   The adventure of a lifetime, in a few mere sec...   \n",
       "33743  The adventure of a lifetime, in a few mere sec...   \n",
       "949            Every woman who has loved will understand   \n",
       "15074          Every woman who has loved will understand   \n",
       "9576                                                 NaN   \n",
       "26625                                                NaN   \n",
       "20843                                                NaN   \n",
       "11155                                                NaN   \n",
       "21116                              One Nation. Underfed.   \n",
       "2564                               One Nation. Underfed.   \n",
       "20899  From the very beginning, they knew they'd be f...   \n",
       "5710   From the very beginning, they knew they'd be f...   \n",
       "23534                                                NaN   \n",
       "4356                                                 NaN   \n",
       "30001                                                NaN   \n",
       "838                                                  NaN   \n",
       "19730                                                NaN   \n",
       "29503                                                NaN   \n",
       "35587                                                NaN   \n",
       "\n",
       "                                             title  vote_average  vote_count  \n",
       "33826              Confessions of a Dangerous Mind           6.6       281.0  \n",
       "5865               Confessions of a Dangerous Mind           6.6       281.0  \n",
       "4114                 Pokémon: Spell of the Unknown           6.0       143.0  \n",
       "44821                Pokémon: Spell of the Unknown           6.0       144.0  \n",
       "44826  Pokémon 4Ever: Celebi - Voice of the Forest           5.7        82.0  \n",
       "5535   Pokémon 4Ever: Celebi - Voice of the Forest           5.7        82.0  \n",
       "15765                                      Offside           6.7        27.0  \n",
       "11342                                      Offside           6.7        27.0  \n",
       "10419                                       Bubble           6.4        36.0  \n",
       "12066                                       Bubble           6.4        36.0  \n",
       "5130                                 Clockstoppers           4.9        89.0  \n",
       "33743                                Clockstoppers           4.9        90.0  \n",
       "949                             A Farewell to Arms           6.2        29.0  \n",
       "15074                           A Farewell to Arms           6.2        29.0  \n",
       "9576                      The Phantom of the Opera           5.0         3.0  \n",
       "26625                     The Phantom of the Opera           5.0         3.0  \n",
       "20843                                   Black Gold           5.9        77.0  \n",
       "11155                                   Black Gold           5.9        77.0  \n",
       "21116                         A Place at the Table           6.9         7.0  \n",
       "2564                          A Place at the Table           6.9         7.0  \n",
       "20899                              Rich and Famous           4.9         7.0  \n",
       "5710                               Rich and Famous           4.9         7.0  \n",
       "23534                         Camille Claudel 1915           7.0        20.0  \n",
       "4356                          Camille Claudel 1915           7.0        20.0  \n",
       "30001                                         Wife           NaN         0.0  \n",
       "838                                           Wife           NaN         0.0  \n",
       "19730                                          NaN           NaN         NaN  \n",
       "29503                                          NaN           NaN         NaN  \n",
       "35587                                          NaN           NaN         NaN  "
      ]
     },
     "execution_count": 586,
     "metadata": {},
     "output_type": "execute_result"
    }
   ],
   "source": [
    "data[data.duplicated(subset=\"id\",keep=False)].sort_values(by=\"id\")"
   ]
  },
  {
   "cell_type": "markdown",
   "metadata": {},
   "source": [
    "- The duplicate movies with same id have different popularities. We need to do a much deeper analysis to decide which to keep. For now, we can simply keep the first one following previous convension. "
   ]
  },
  {
   "cell_type": "code",
   "execution_count": 587,
   "metadata": {},
   "outputs": [],
   "source": [
    "data.drop_duplicates(subset='id',keep='first',inplace=True,ignore_index=True)"
   ]
  },
  {
   "cell_type": "code",
   "execution_count": 588,
   "metadata": {},
   "outputs": [
    {
     "data": {
      "text/plain": [
       "Index(['belongs_to_collection', 'budget_musd'], dtype='object')"
      ]
     },
     "execution_count": 588,
     "metadata": {},
     "output_type": "execute_result"
    }
   ],
   "source": [
    "data.columns[:2]"
   ]
  },
  {
   "cell_type": "code",
   "execution_count": 589,
   "metadata": {},
   "outputs": [],
   "source": [
    "#data[data.duplicated(subset=\"title\",keep=False)].title.value_counts()\n",
    "#data.head()"
   ]
  },
  {
   "cell_type": "markdown",
   "metadata": {},
   "source": [
    "## Handling Missing Values & Removing Observations"
   ]
  },
  {
   "cell_type": "markdown",
   "metadata": {},
   "source": [
    "17. __Drop__ all rows/movies with unknown __id__ or __title__."
   ]
  },
  {
   "cell_type": "code",
   "execution_count": 590,
   "metadata": {},
   "outputs": [
    {
     "name": "stdout",
     "output_type": "stream",
     "text": [
      "<class 'pandas.core.frame.DataFrame'>\n",
      "RangeIndex: 45434 entries, 0 to 45433\n",
      "Data columns (total 19 columns):\n",
      " #   Column                 Non-Null Count  Dtype         \n",
      "---  ------                 --------------  -----         \n",
      " 0   belongs_to_collection  4488 non-null   object        \n",
      " 1   budget_musd            8880 non-null   float64       \n",
      " 2   genres                 42992 non-null  object        \n",
      " 3   id                     45433 non-null  float64       \n",
      " 4   original_language      45423 non-null  object        \n",
      " 5   overview               44326 non-null  object        \n",
      " 6   popularity             45430 non-null  float64       \n",
      " 7   poster_path            45048 non-null  object        \n",
      " 8   production_companies   33562 non-null  object        \n",
      " 9   production_countries   39151 non-null  object        \n",
      " 10  release_date           45346 non-null  datetime64[ns]\n",
      " 11  revenue_musd           7398 non-null   float64       \n",
      " 12  runtime                43615 non-null  float64       \n",
      " 13  spoken_languages       41480 non-null  object        \n",
      " 14  status                 45349 non-null  object        \n",
      " 15  tagline                20397 non-null  object        \n",
      " 16  title                  45430 non-null  object        \n",
      " 17  vote_average           42435 non-null  float64       \n",
      " 18  vote_count             45430 non-null  float64       \n",
      "dtypes: datetime64[ns](1), float64(7), object(11)\n",
      "memory usage: 6.6+ MB\n"
     ]
    }
   ],
   "source": [
    "data.info()"
   ]
  },
  {
   "cell_type": "code",
   "execution_count": 591,
   "metadata": {},
   "outputs": [],
   "source": [
    "data.dropna(axis=0,how='any',subset='id',inplace=True)"
   ]
  },
  {
   "cell_type": "code",
   "execution_count": 592,
   "metadata": {},
   "outputs": [],
   "source": [
    "data = data.loc[~data.title.isna()]"
   ]
  },
  {
   "cell_type": "code",
   "execution_count": 593,
   "metadata": {},
   "outputs": [
    {
     "data": {
      "text/html": [
       "<div>\n",
       "<style scoped>\n",
       "    .dataframe tbody tr th:only-of-type {\n",
       "        vertical-align: middle;\n",
       "    }\n",
       "\n",
       "    .dataframe tbody tr th {\n",
       "        vertical-align: top;\n",
       "    }\n",
       "\n",
       "    .dataframe thead th {\n",
       "        text-align: right;\n",
       "    }\n",
       "</style>\n",
       "<table border=\"1\" class=\"dataframe\">\n",
       "  <thead>\n",
       "    <tr style=\"text-align: right;\">\n",
       "      <th></th>\n",
       "      <th>belongs_to_collection</th>\n",
       "      <th>budget_musd</th>\n",
       "      <th>genres</th>\n",
       "      <th>id</th>\n",
       "      <th>original_language</th>\n",
       "      <th>overview</th>\n",
       "      <th>popularity</th>\n",
       "      <th>poster_path</th>\n",
       "      <th>production_companies</th>\n",
       "      <th>production_countries</th>\n",
       "      <th>release_date</th>\n",
       "      <th>revenue_musd</th>\n",
       "      <th>runtime</th>\n",
       "      <th>spoken_languages</th>\n",
       "      <th>status</th>\n",
       "      <th>tagline</th>\n",
       "      <th>title</th>\n",
       "      <th>vote_average</th>\n",
       "      <th>vote_count</th>\n",
       "    </tr>\n",
       "  </thead>\n",
       "  <tbody>\n",
       "  </tbody>\n",
       "</table>\n",
       "</div>"
      ],
      "text/plain": [
       "Empty DataFrame\n",
       "Columns: [belongs_to_collection, budget_musd, genres, id, original_language, overview, popularity, poster_path, production_companies, production_countries, release_date, revenue_musd, runtime, spoken_languages, status, tagline, title, vote_average, vote_count]\n",
       "Index: []"
      ]
     },
     "execution_count": 593,
     "metadata": {},
     "output_type": "execute_result"
    }
   ],
   "source": [
    "data[data.title.isna()|data.id.isna()]"
   ]
  },
  {
   "cell_type": "code",
   "execution_count": 594,
   "metadata": {},
   "outputs": [
    {
     "data": {
      "text/plain": [
       "0           862\n",
       "1          8844\n",
       "2         15602\n",
       "3         31357\n",
       "4         11862\n",
       "          ...  \n",
       "45429    439050\n",
       "45430    111109\n",
       "45431     67758\n",
       "45432    227506\n",
       "45433    461257\n",
       "Name: id, Length: 45430, dtype: int32"
      ]
     },
     "execution_count": 594,
     "metadata": {},
     "output_type": "execute_result"
    }
   ],
   "source": [
    "data.id.astype(int)"
   ]
  },
  {
   "cell_type": "markdown",
   "metadata": {},
   "source": [
    "18. __Keep__ only those rows/movies in the df with __10 or more non-NaN__ values."
   ]
  },
  {
   "cell_type": "code",
   "execution_count": 595,
   "metadata": {},
   "outputs": [
    {
     "data": {
      "text/plain": [
       "belongs_to_collection     4487\n",
       "budget_musd               8880\n",
       "genres                   42988\n",
       "id                       45430\n",
       "original_language        45419\n",
       "overview                 44322\n",
       "popularity               45430\n",
       "poster_path              45047\n",
       "production_companies     33562\n",
       "production_countries     39151\n",
       "release_date             45346\n",
       "revenue_musd              7398\n",
       "runtime                  43615\n",
       "spoken_languages         41480\n",
       "status                   45349\n",
       "tagline                  20397\n",
       "title                    45430\n",
       "vote_average             42435\n",
       "vote_count               45430\n",
       "dtype: int64"
      ]
     },
     "execution_count": 595,
     "metadata": {},
     "output_type": "execute_result"
    }
   ],
   "source": [
    "data.notna().sum()"
   ]
  },
  {
   "cell_type": "code",
   "execution_count": 596,
   "metadata": {},
   "outputs": [
    {
     "data": {
      "text/plain": [
       "4     12499\n",
       "3     11437\n",
       "5      5451\n",
       "2      4263\n",
       "1      3859\n",
       "6      3045\n",
       "7      1894\n",
       "0      1132\n",
       "8      1022\n",
       "9       515\n",
       "10      184\n",
       "11      104\n",
       "12       21\n",
       "13        4\n",
       "dtype: int64"
      ]
     },
     "execution_count": 596,
     "metadata": {},
     "output_type": "execute_result"
    }
   ],
   "source": [
    "# Number of movies corresponding to number of missing values\n",
    "data.isna().sum(axis=1).value_counts()"
   ]
  },
  {
   "cell_type": "code",
   "execution_count": 597,
   "metadata": {},
   "outputs": [
    {
     "data": {
      "text/html": [
       "<div>\n",
       "<style scoped>\n",
       "    .dataframe tbody tr th:only-of-type {\n",
       "        vertical-align: middle;\n",
       "    }\n",
       "\n",
       "    .dataframe tbody tr th {\n",
       "        vertical-align: top;\n",
       "    }\n",
       "\n",
       "    .dataframe thead th {\n",
       "        text-align: right;\n",
       "    }\n",
       "</style>\n",
       "<table border=\"1\" class=\"dataframe\">\n",
       "  <thead>\n",
       "    <tr style=\"text-align: right;\">\n",
       "      <th></th>\n",
       "      <th>belongs_to_collection</th>\n",
       "      <th>budget_musd</th>\n",
       "      <th>genres</th>\n",
       "      <th>id</th>\n",
       "      <th>original_language</th>\n",
       "      <th>overview</th>\n",
       "      <th>popularity</th>\n",
       "      <th>poster_path</th>\n",
       "      <th>production_companies</th>\n",
       "      <th>production_countries</th>\n",
       "      <th>release_date</th>\n",
       "      <th>revenue_musd</th>\n",
       "      <th>runtime</th>\n",
       "      <th>spoken_languages</th>\n",
       "      <th>status</th>\n",
       "      <th>tagline</th>\n",
       "      <th>title</th>\n",
       "      <th>vote_average</th>\n",
       "      <th>vote_count</th>\n",
       "    </tr>\n",
       "  </thead>\n",
       "  <tbody>\n",
       "    <tr>\n",
       "      <th>2139</th>\n",
       "      <td>NaN</td>\n",
       "      <td>NaN</td>\n",
       "      <td>NaN</td>\n",
       "      <td>77314.0</td>\n",
       "      <td>fr</td>\n",
       "      <td>NaN</td>\n",
       "      <td>0.037500</td>\n",
       "      <td>/8prmlT6iOYl3zFsDDJl9oDMUGeD.jpg</td>\n",
       "      <td>NaN</td>\n",
       "      <td>NaN</td>\n",
       "      <td>1991-12-04</td>\n",
       "      <td>NaN</td>\n",
       "      <td>NaN</td>\n",
       "      <td>NaN</td>\n",
       "      <td>NaN</td>\n",
       "      <td>NaN</td>\n",
       "      <td>The Cabinet of Dr. Ramirez</td>\n",
       "      <td>NaN</td>\n",
       "      <td>0.0</td>\n",
       "    </tr>\n",
       "    <tr>\n",
       "      <th>4129</th>\n",
       "      <td>NaN</td>\n",
       "      <td>NaN</td>\n",
       "      <td>Drama|Thriller|Romance</td>\n",
       "      <td>109472.0</td>\n",
       "      <td>en</td>\n",
       "      <td>NaN</td>\n",
       "      <td>0.001653</td>\n",
       "      <td>NaN</td>\n",
       "      <td>NaN</td>\n",
       "      <td>NaN</td>\n",
       "      <td>2001-06-06</td>\n",
       "      <td>NaN</td>\n",
       "      <td>NaN</td>\n",
       "      <td>NaN</td>\n",
       "      <td>NaN</td>\n",
       "      <td>NaN</td>\n",
       "      <td>The Girl</td>\n",
       "      <td>NaN</td>\n",
       "      <td>0.0</td>\n",
       "    </tr>\n",
       "    <tr>\n",
       "      <th>14885</th>\n",
       "      <td>NaN</td>\n",
       "      <td>NaN</td>\n",
       "      <td>NaN</td>\n",
       "      <td>174748.0</td>\n",
       "      <td>no</td>\n",
       "      <td>NaN</td>\n",
       "      <td>0.000000</td>\n",
       "      <td>NaN</td>\n",
       "      <td>NaN</td>\n",
       "      <td>NaN</td>\n",
       "      <td>1984-12-30</td>\n",
       "      <td>NaN</td>\n",
       "      <td>NaN</td>\n",
       "      <td>NaN</td>\n",
       "      <td>Released</td>\n",
       "      <td>NaN</td>\n",
       "      <td>Lars i porten</td>\n",
       "      <td>NaN</td>\n",
       "      <td>0.0</td>\n",
       "    </tr>\n",
       "    <tr>\n",
       "      <th>18564</th>\n",
       "      <td>NaN</td>\n",
       "      <td>NaN</td>\n",
       "      <td>Documentary</td>\n",
       "      <td>404471.0</td>\n",
       "      <td>fi</td>\n",
       "      <td>NaN</td>\n",
       "      <td>0.000000</td>\n",
       "      <td>NaN</td>\n",
       "      <td>NaN</td>\n",
       "      <td>NaN</td>\n",
       "      <td>NaT</td>\n",
       "      <td>NaN</td>\n",
       "      <td>NaN</td>\n",
       "      <td>NaN</td>\n",
       "      <td>Released</td>\n",
       "      <td>NaN</td>\n",
       "      <td>Pölynimurikauppiaat</td>\n",
       "      <td>NaN</td>\n",
       "      <td>0.0</td>\n",
       "    </tr>\n",
       "    <tr>\n",
       "      <th>19947</th>\n",
       "      <td>NaN</td>\n",
       "      <td>NaN</td>\n",
       "      <td>NaN</td>\n",
       "      <td>397339.0</td>\n",
       "      <td>en</td>\n",
       "      <td>Black and White</td>\n",
       "      <td>0.000000</td>\n",
       "      <td>NaN</td>\n",
       "      <td>NaN</td>\n",
       "      <td>NaN</td>\n",
       "      <td>NaT</td>\n",
       "      <td>NaN</td>\n",
       "      <td>NaN</td>\n",
       "      <td>NaN</td>\n",
       "      <td>Released</td>\n",
       "      <td>NaN</td>\n",
       "      <td>The Awful Truth</td>\n",
       "      <td>NaN</td>\n",
       "      <td>0.0</td>\n",
       "    </tr>\n",
       "    <tr>\n",
       "      <th>20293</th>\n",
       "      <td>NaN</td>\n",
       "      <td>NaN</td>\n",
       "      <td>NaN</td>\n",
       "      <td>367678.0</td>\n",
       "      <td>en</td>\n",
       "      <td>American Documentary</td>\n",
       "      <td>0.000000</td>\n",
       "      <td>NaN</td>\n",
       "      <td>NaN</td>\n",
       "      <td>NaN</td>\n",
       "      <td>NaT</td>\n",
       "      <td>NaN</td>\n",
       "      <td>NaN</td>\n",
       "      <td>NaN</td>\n",
       "      <td>Released</td>\n",
       "      <td>NaN</td>\n",
       "      <td>Enola Gay and the Atomic Bombing of Japan</td>\n",
       "      <td>NaN</td>\n",
       "      <td>0.0</td>\n",
       "    </tr>\n",
       "    <tr>\n",
       "      <th>22784</th>\n",
       "      <td>NaN</td>\n",
       "      <td>NaN</td>\n",
       "      <td>NaN</td>\n",
       "      <td>158517.0</td>\n",
       "      <td>en</td>\n",
       "      <td>On her way home from an evening shift at a men...</td>\n",
       "      <td>0.000143</td>\n",
       "      <td>NaN</td>\n",
       "      <td>NaN</td>\n",
       "      <td>NaN</td>\n",
       "      <td>NaT</td>\n",
       "      <td>NaN</td>\n",
       "      <td>NaN</td>\n",
       "      <td>NaN</td>\n",
       "      <td>Released</td>\n",
       "      <td>NaN</td>\n",
       "      <td>Lain ulkopuolella</td>\n",
       "      <td>NaN</td>\n",
       "      <td>0.0</td>\n",
       "    </tr>\n",
       "    <tr>\n",
       "      <th>24141</th>\n",
       "      <td>NaN</td>\n",
       "      <td>NaN</td>\n",
       "      <td>NaN</td>\n",
       "      <td>287831.0</td>\n",
       "      <td>en</td>\n",
       "      <td>Harry Raymond, a foreign ambassador in Moscow,...</td>\n",
       "      <td>0.000000</td>\n",
       "      <td>NaN</td>\n",
       "      <td>NaN</td>\n",
       "      <td>NaN</td>\n",
       "      <td>NaT</td>\n",
       "      <td>NaN</td>\n",
       "      <td>NaN</td>\n",
       "      <td>NaN</td>\n",
       "      <td>Released</td>\n",
       "      <td>NaN</td>\n",
       "      <td>External Affairs</td>\n",
       "      <td>NaN</td>\n",
       "      <td>0.0</td>\n",
       "    </tr>\n",
       "    <tr>\n",
       "      <th>29290</th>\n",
       "      <td>NaN</td>\n",
       "      <td>NaN</td>\n",
       "      <td>NaN</td>\n",
       "      <td>335141.0</td>\n",
       "      <td>fr</td>\n",
       "      <td>NaN</td>\n",
       "      <td>0.001648</td>\n",
       "      <td>NaN</td>\n",
       "      <td>NaN</td>\n",
       "      <td>NaN</td>\n",
       "      <td>1998-01-01</td>\n",
       "      <td>NaN</td>\n",
       "      <td>NaN</td>\n",
       "      <td>NaN</td>\n",
       "      <td>Released</td>\n",
       "      <td>NaN</td>\n",
       "      <td>Bob le magnifique</td>\n",
       "      <td>NaN</td>\n",
       "      <td>0.0</td>\n",
       "    </tr>\n",
       "    <tr>\n",
       "      <th>35627</th>\n",
       "      <td>NaN</td>\n",
       "      <td>NaN</td>\n",
       "      <td>NaN</td>\n",
       "      <td>374698.0</td>\n",
       "      <td>nl</td>\n",
       "      <td>NaN</td>\n",
       "      <td>0.001290</td>\n",
       "      <td>NaN</td>\n",
       "      <td>NaN</td>\n",
       "      <td>NaN</td>\n",
       "      <td>2001-10-24</td>\n",
       "      <td>NaN</td>\n",
       "      <td>NaN</td>\n",
       "      <td>NaN</td>\n",
       "      <td>Released</td>\n",
       "      <td>NaN</td>\n",
       "      <td>Vallen</td>\n",
       "      <td>NaN</td>\n",
       "      <td>0.0</td>\n",
       "    </tr>\n",
       "    <tr>\n",
       "      <th>36395</th>\n",
       "      <td>NaN</td>\n",
       "      <td>NaN</td>\n",
       "      <td>NaN</td>\n",
       "      <td>382436.0</td>\n",
       "      <td>ru</td>\n",
       "      <td>NaN</td>\n",
       "      <td>0.073358</td>\n",
       "      <td>NaN</td>\n",
       "      <td>NaN</td>\n",
       "      <td>NaN</td>\n",
       "      <td>NaT</td>\n",
       "      <td>NaN</td>\n",
       "      <td>NaN</td>\n",
       "      <td>NaN</td>\n",
       "      <td>Released</td>\n",
       "      <td>NaN</td>\n",
       "      <td>Vous êtes très jolie, mademoiselle</td>\n",
       "      <td>5.0</td>\n",
       "      <td>2.0</td>\n",
       "    </tr>\n",
       "    <tr>\n",
       "      <th>36498</th>\n",
       "      <td>NaN</td>\n",
       "      <td>NaN</td>\n",
       "      <td>NaN</td>\n",
       "      <td>166256.0</td>\n",
       "      <td>en</td>\n",
       "      <td>Chutki (Antara Mali) lives in a small village ...</td>\n",
       "      <td>0.000000</td>\n",
       "      <td>NaN</td>\n",
       "      <td>NaN</td>\n",
       "      <td>NaN</td>\n",
       "      <td>NaT</td>\n",
       "      <td>NaN</td>\n",
       "      <td>NaN</td>\n",
       "      <td>NaN</td>\n",
       "      <td>Released</td>\n",
       "      <td>NaN</td>\n",
       "      <td>Main Madhuri Dixit Banna Chahti Hoon!</td>\n",
       "      <td>NaN</td>\n",
       "      <td>0.0</td>\n",
       "    </tr>\n",
       "    <tr>\n",
       "      <th>36524</th>\n",
       "      <td>NaN</td>\n",
       "      <td>NaN</td>\n",
       "      <td>NaN</td>\n",
       "      <td>9939.0</td>\n",
       "      <td>en</td>\n",
       "      <td>NaN</td>\n",
       "      <td>0.002495</td>\n",
       "      <td>NaN</td>\n",
       "      <td>NaN</td>\n",
       "      <td>NaN</td>\n",
       "      <td>2002-01-01</td>\n",
       "      <td>NaN</td>\n",
       "      <td>NaN</td>\n",
       "      <td>NaN</td>\n",
       "      <td>Released</td>\n",
       "      <td>NaN</td>\n",
       "      <td>The Chatroom</td>\n",
       "      <td>NaN</td>\n",
       "      <td>0.0</td>\n",
       "    </tr>\n",
       "    <tr>\n",
       "      <th>37263</th>\n",
       "      <td>NaN</td>\n",
       "      <td>NaN</td>\n",
       "      <td>NaN</td>\n",
       "      <td>368128.0</td>\n",
       "      <td>en</td>\n",
       "      <td>A typical American family - photographer fathe...</td>\n",
       "      <td>0.000000</td>\n",
       "      <td>NaN</td>\n",
       "      <td>NaN</td>\n",
       "      <td>NaN</td>\n",
       "      <td>NaT</td>\n",
       "      <td>NaN</td>\n",
       "      <td>NaN</td>\n",
       "      <td>NaN</td>\n",
       "      <td>Released</td>\n",
       "      <td>NaN</td>\n",
       "      <td>Sins of the mind</td>\n",
       "      <td>NaN</td>\n",
       "      <td>0.0</td>\n",
       "    </tr>\n",
       "    <tr>\n",
       "      <th>37614</th>\n",
       "      <td>NaN</td>\n",
       "      <td>NaN</td>\n",
       "      <td>NaN</td>\n",
       "      <td>54566.0</td>\n",
       "      <td>fi</td>\n",
       "      <td>NaN</td>\n",
       "      <td>0.001189</td>\n",
       "      <td>/clWWlnuiV2n0fEjGPOnLgq4DKZF.jpg</td>\n",
       "      <td>NaN</td>\n",
       "      <td>NaN</td>\n",
       "      <td>1966-08-26</td>\n",
       "      <td>NaN</td>\n",
       "      <td>NaN</td>\n",
       "      <td>NaN</td>\n",
       "      <td>NaN</td>\n",
       "      <td>NaN</td>\n",
       "      <td>Millipilleri</td>\n",
       "      <td>NaN</td>\n",
       "      <td>0.0</td>\n",
       "    </tr>\n",
       "    <tr>\n",
       "      <th>40054</th>\n",
       "      <td>NaN</td>\n",
       "      <td>NaN</td>\n",
       "      <td>NaN</td>\n",
       "      <td>411711.0</td>\n",
       "      <td>en</td>\n",
       "      <td>Narrated by Emmy-winner Julianna Margulies, Th...</td>\n",
       "      <td>0.000023</td>\n",
       "      <td>NaN</td>\n",
       "      <td>NaN</td>\n",
       "      <td>NaN</td>\n",
       "      <td>NaT</td>\n",
       "      <td>NaN</td>\n",
       "      <td>NaN</td>\n",
       "      <td>NaN</td>\n",
       "      <td>Released</td>\n",
       "      <td>NaN</td>\n",
       "      <td>The Last Gold</td>\n",
       "      <td>NaN</td>\n",
       "      <td>0.0</td>\n",
       "    </tr>\n",
       "    <tr>\n",
       "      <th>40175</th>\n",
       "      <td>NaN</td>\n",
       "      <td>NaN</td>\n",
       "      <td>NaN</td>\n",
       "      <td>410576.0</td>\n",
       "      <td>en</td>\n",
       "      <td>NaN</td>\n",
       "      <td>0.000253</td>\n",
       "      <td>/oUgQBEPLA8VAZtu5krty5zgKV1u.jpg</td>\n",
       "      <td>NaN</td>\n",
       "      <td>NaN</td>\n",
       "      <td>NaT</td>\n",
       "      <td>NaN</td>\n",
       "      <td>NaN</td>\n",
       "      <td>NaN</td>\n",
       "      <td>Released</td>\n",
       "      <td>NaN</td>\n",
       "      <td>Bad Dad Rehab</td>\n",
       "      <td>NaN</td>\n",
       "      <td>0.0</td>\n",
       "    </tr>\n",
       "    <tr>\n",
       "      <th>41370</th>\n",
       "      <td>NaN</td>\n",
       "      <td>NaN</td>\n",
       "      <td>NaN</td>\n",
       "      <td>419289.0</td>\n",
       "      <td>es</td>\n",
       "      <td>NaN</td>\n",
       "      <td>0.000000</td>\n",
       "      <td>/4qVpxyEtTZek9NZeasOIKdKOOve.jpg</td>\n",
       "      <td>NaN</td>\n",
       "      <td>NaN</td>\n",
       "      <td>NaT</td>\n",
       "      <td>NaN</td>\n",
       "      <td>NaN</td>\n",
       "      <td>NaN</td>\n",
       "      <td>Released</td>\n",
       "      <td>NaN</td>\n",
       "      <td>Allende en su laberinto</td>\n",
       "      <td>NaN</td>\n",
       "      <td>0.0</td>\n",
       "    </tr>\n",
       "    <tr>\n",
       "      <th>42369</th>\n",
       "      <td>NaN</td>\n",
       "      <td>NaN</td>\n",
       "      <td>NaN</td>\n",
       "      <td>358293.0</td>\n",
       "      <td>en</td>\n",
       "      <td>NaN</td>\n",
       "      <td>0.001180</td>\n",
       "      <td>NaN</td>\n",
       "      <td>NaN</td>\n",
       "      <td>NaN</td>\n",
       "      <td>1997-01-02</td>\n",
       "      <td>NaN</td>\n",
       "      <td>NaN</td>\n",
       "      <td>NaN</td>\n",
       "      <td>Released</td>\n",
       "      <td>NaN</td>\n",
       "      <td>Today</td>\n",
       "      <td>NaN</td>\n",
       "      <td>0.0</td>\n",
       "    </tr>\n",
       "    <tr>\n",
       "      <th>42544</th>\n",
       "      <td>NaN</td>\n",
       "      <td>NaN</td>\n",
       "      <td>NaN</td>\n",
       "      <td>440361.0</td>\n",
       "      <td>de</td>\n",
       "      <td>NaN</td>\n",
       "      <td>0.070588</td>\n",
       "      <td>NaN</td>\n",
       "      <td>NaN</td>\n",
       "      <td>NaN</td>\n",
       "      <td>NaT</td>\n",
       "      <td>NaN</td>\n",
       "      <td>NaN</td>\n",
       "      <td>NaN</td>\n",
       "      <td>Released</td>\n",
       "      <td>NaN</td>\n",
       "      <td>Whn the day had no name</td>\n",
       "      <td>7.0</td>\n",
       "      <td>2.0</td>\n",
       "    </tr>\n",
       "    <tr>\n",
       "      <th>45039</th>\n",
       "      <td>NaN</td>\n",
       "      <td>NaN</td>\n",
       "      <td>NaN</td>\n",
       "      <td>439314.0</td>\n",
       "      <td>en</td>\n",
       "      <td>Brazilian philosopher Olavo de Carvalho's thin...</td>\n",
       "      <td>0.000000</td>\n",
       "      <td>NaN</td>\n",
       "      <td>NaN</td>\n",
       "      <td>NaN</td>\n",
       "      <td>NaT</td>\n",
       "      <td>NaN</td>\n",
       "      <td>NaN</td>\n",
       "      <td>NaN</td>\n",
       "      <td>Released</td>\n",
       "      <td>NaN</td>\n",
       "      <td>The Garden of Afflictions 2017</td>\n",
       "      <td>NaN</td>\n",
       "      <td>0.0</td>\n",
       "    </tr>\n",
       "  </tbody>\n",
       "</table>\n",
       "</div>"
      ],
      "text/plain": [
       "      belongs_to_collection  budget_musd                  genres        id  \\\n",
       "2139                    NaN          NaN                     NaN   77314.0   \n",
       "4129                    NaN          NaN  Drama|Thriller|Romance  109472.0   \n",
       "14885                   NaN          NaN                     NaN  174748.0   \n",
       "18564                   NaN          NaN             Documentary  404471.0   \n",
       "19947                   NaN          NaN                     NaN  397339.0   \n",
       "20293                   NaN          NaN                     NaN  367678.0   \n",
       "22784                   NaN          NaN                     NaN  158517.0   \n",
       "24141                   NaN          NaN                     NaN  287831.0   \n",
       "29290                   NaN          NaN                     NaN  335141.0   \n",
       "35627                   NaN          NaN                     NaN  374698.0   \n",
       "36395                   NaN          NaN                     NaN  382436.0   \n",
       "36498                   NaN          NaN                     NaN  166256.0   \n",
       "36524                   NaN          NaN                     NaN    9939.0   \n",
       "37263                   NaN          NaN                     NaN  368128.0   \n",
       "37614                   NaN          NaN                     NaN   54566.0   \n",
       "40054                   NaN          NaN                     NaN  411711.0   \n",
       "40175                   NaN          NaN                     NaN  410576.0   \n",
       "41370                   NaN          NaN                     NaN  419289.0   \n",
       "42369                   NaN          NaN                     NaN  358293.0   \n",
       "42544                   NaN          NaN                     NaN  440361.0   \n",
       "45039                   NaN          NaN                     NaN  439314.0   \n",
       "\n",
       "      original_language                                           overview  \\\n",
       "2139                 fr                                                NaN   \n",
       "4129                 en                                                NaN   \n",
       "14885                no                                                NaN   \n",
       "18564                fi                                                NaN   \n",
       "19947                en                                    Black and White   \n",
       "20293                en                               American Documentary   \n",
       "22784                en  On her way home from an evening shift at a men...   \n",
       "24141                en  Harry Raymond, a foreign ambassador in Moscow,...   \n",
       "29290                fr                                                NaN   \n",
       "35627                nl                                                NaN   \n",
       "36395                ru                                                NaN   \n",
       "36498                en  Chutki (Antara Mali) lives in a small village ...   \n",
       "36524                en                                                NaN   \n",
       "37263                en  A typical American family - photographer fathe...   \n",
       "37614                fi                                                NaN   \n",
       "40054                en  Narrated by Emmy-winner Julianna Margulies, Th...   \n",
       "40175                en                                                NaN   \n",
       "41370                es                                                NaN   \n",
       "42369                en                                                NaN   \n",
       "42544                de                                                NaN   \n",
       "45039                en  Brazilian philosopher Olavo de Carvalho's thin...   \n",
       "\n",
       "       popularity                       poster_path production_companies  \\\n",
       "2139     0.037500  /8prmlT6iOYl3zFsDDJl9oDMUGeD.jpg                  NaN   \n",
       "4129     0.001653                               NaN                  NaN   \n",
       "14885    0.000000                               NaN                  NaN   \n",
       "18564    0.000000                               NaN                  NaN   \n",
       "19947    0.000000                               NaN                  NaN   \n",
       "20293    0.000000                               NaN                  NaN   \n",
       "22784    0.000143                               NaN                  NaN   \n",
       "24141    0.000000                               NaN                  NaN   \n",
       "29290    0.001648                               NaN                  NaN   \n",
       "35627    0.001290                               NaN                  NaN   \n",
       "36395    0.073358                               NaN                  NaN   \n",
       "36498    0.000000                               NaN                  NaN   \n",
       "36524    0.002495                               NaN                  NaN   \n",
       "37263    0.000000                               NaN                  NaN   \n",
       "37614    0.001189  /clWWlnuiV2n0fEjGPOnLgq4DKZF.jpg                  NaN   \n",
       "40054    0.000023                               NaN                  NaN   \n",
       "40175    0.000253  /oUgQBEPLA8VAZtu5krty5zgKV1u.jpg                  NaN   \n",
       "41370    0.000000  /4qVpxyEtTZek9NZeasOIKdKOOve.jpg                  NaN   \n",
       "42369    0.001180                               NaN                  NaN   \n",
       "42544    0.070588                               NaN                  NaN   \n",
       "45039    0.000000                               NaN                  NaN   \n",
       "\n",
       "      production_countries release_date  revenue_musd  runtime  \\\n",
       "2139                   NaN   1991-12-04           NaN      NaN   \n",
       "4129                   NaN   2001-06-06           NaN      NaN   \n",
       "14885                  NaN   1984-12-30           NaN      NaN   \n",
       "18564                  NaN          NaT           NaN      NaN   \n",
       "19947                  NaN          NaT           NaN      NaN   \n",
       "20293                  NaN          NaT           NaN      NaN   \n",
       "22784                  NaN          NaT           NaN      NaN   \n",
       "24141                  NaN          NaT           NaN      NaN   \n",
       "29290                  NaN   1998-01-01           NaN      NaN   \n",
       "35627                  NaN   2001-10-24           NaN      NaN   \n",
       "36395                  NaN          NaT           NaN      NaN   \n",
       "36498                  NaN          NaT           NaN      NaN   \n",
       "36524                  NaN   2002-01-01           NaN      NaN   \n",
       "37263                  NaN          NaT           NaN      NaN   \n",
       "37614                  NaN   1966-08-26           NaN      NaN   \n",
       "40054                  NaN          NaT           NaN      NaN   \n",
       "40175                  NaN          NaT           NaN      NaN   \n",
       "41370                  NaN          NaT           NaN      NaN   \n",
       "42369                  NaN   1997-01-02           NaN      NaN   \n",
       "42544                  NaN          NaT           NaN      NaN   \n",
       "45039                  NaN          NaT           NaN      NaN   \n",
       "\n",
       "      spoken_languages    status tagline  \\\n",
       "2139               NaN       NaN     NaN   \n",
       "4129               NaN       NaN     NaN   \n",
       "14885              NaN  Released     NaN   \n",
       "18564              NaN  Released     NaN   \n",
       "19947              NaN  Released     NaN   \n",
       "20293              NaN  Released     NaN   \n",
       "22784              NaN  Released     NaN   \n",
       "24141              NaN  Released     NaN   \n",
       "29290              NaN  Released     NaN   \n",
       "35627              NaN  Released     NaN   \n",
       "36395              NaN  Released     NaN   \n",
       "36498              NaN  Released     NaN   \n",
       "36524              NaN  Released     NaN   \n",
       "37263              NaN  Released     NaN   \n",
       "37614              NaN       NaN     NaN   \n",
       "40054              NaN  Released     NaN   \n",
       "40175              NaN  Released     NaN   \n",
       "41370              NaN  Released     NaN   \n",
       "42369              NaN  Released     NaN   \n",
       "42544              NaN  Released     NaN   \n",
       "45039              NaN  Released     NaN   \n",
       "\n",
       "                                           title  vote_average  vote_count  \n",
       "2139                  The Cabinet of Dr. Ramirez           NaN         0.0  \n",
       "4129                                    The Girl           NaN         0.0  \n",
       "14885                              Lars i porten           NaN         0.0  \n",
       "18564                        Pölynimurikauppiaat           NaN         0.0  \n",
       "19947                            The Awful Truth           NaN         0.0  \n",
       "20293  Enola Gay and the Atomic Bombing of Japan           NaN         0.0  \n",
       "22784                          Lain ulkopuolella           NaN         0.0  \n",
       "24141                           External Affairs           NaN         0.0  \n",
       "29290                          Bob le magnifique           NaN         0.0  \n",
       "35627                                     Vallen           NaN         0.0  \n",
       "36395         Vous êtes très jolie, mademoiselle           5.0         2.0  \n",
       "36498      Main Madhuri Dixit Banna Chahti Hoon!           NaN         0.0  \n",
       "36524                               The Chatroom           NaN         0.0  \n",
       "37263                           Sins of the mind           NaN         0.0  \n",
       "37614                               Millipilleri           NaN         0.0  \n",
       "40054                              The Last Gold           NaN         0.0  \n",
       "40175                              Bad Dad Rehab           NaN         0.0  \n",
       "41370                    Allende en su laberinto           NaN         0.0  \n",
       "42369                                      Today           NaN         0.0  \n",
       "42544                    Whn the day had no name           7.0         2.0  \n",
       "45039             The Garden of Afflictions 2017           NaN         0.0  "
      ]
     },
     "execution_count": 597,
     "metadata": {},
     "output_type": "execute_result"
    }
   ],
   "source": [
    "data[data.isna().sum(axis=1)==12]"
   ]
  },
  {
   "cell_type": "code",
   "execution_count": 598,
   "metadata": {},
   "outputs": [
    {
     "name": "stdout",
     "output_type": "stream",
     "text": [
      "If we set allowed number of missing value threshold as 10,\n",
      "we loose ~ 0.0044% of movies\n"
     ]
    }
   ],
   "source": [
    "print(\"If we set allowed number of missing value threshold as 10,\\nwe loose ~ {:2.4f}% of movies\".format(200/len(data)))"
   ]
  },
  {
   "cell_type": "code",
   "execution_count": 599,
   "metadata": {},
   "outputs": [],
   "source": [
    "data = data.dropna(thresh=10).copy()"
   ]
  },
  {
   "cell_type": "code",
   "execution_count": 600,
   "metadata": {},
   "outputs": [
    {
     "name": "stdout",
     "output_type": "stream",
     "text": [
      "<class 'pandas.core.frame.DataFrame'>\n",
      "Int64Index: 45117 entries, 0 to 45433\n",
      "Data columns (total 19 columns):\n",
      " #   Column                 Non-Null Count  Dtype         \n",
      "---  ------                 --------------  -----         \n",
      " 0   belongs_to_collection  4487 non-null   object        \n",
      " 1   budget_musd            8878 non-null   float64       \n",
      " 2   genres                 42969 non-null  object        \n",
      " 3   id                     45117 non-null  float64       \n",
      " 4   original_language      45106 non-null  object        \n",
      " 5   overview               44138 non-null  object        \n",
      " 6   popularity             45117 non-null  float64       \n",
      " 7   poster_path            44885 non-null  object        \n",
      " 8   production_companies   33561 non-null  object        \n",
      " 9   production_countries   39147 non-null  object        \n",
      " 10  release_date           45078 non-null  datetime64[ns]\n",
      " 11  revenue_musd           7398 non-null   float64       \n",
      " 12  runtime                43551 non-null  float64       \n",
      " 13  spoken_languages       41462 non-null  object        \n",
      " 14  status                 45051 non-null  object        \n",
      " 15  tagline                20396 non-null  object        \n",
      " 16  title                  45117 non-null  object        \n",
      " 17  vote_average           42362 non-null  float64       \n",
      " 18  vote_count             45117 non-null  float64       \n",
      "dtypes: datetime64[ns](1), float64(7), object(11)\n",
      "memory usage: 6.9+ MB\n"
     ]
    }
   ],
   "source": [
    "data.info()"
   ]
  },
  {
   "cell_type": "markdown",
   "metadata": {},
   "source": [
    "## Final (Cleaning) Steps"
   ]
  },
  {
   "cell_type": "markdown",
   "metadata": {},
   "source": [
    "19. __Keep__ only those rows/movies in the df with __status \"Released\"__. Then __drop__ the column \"status\"."
   ]
  },
  {
   "cell_type": "code",
   "execution_count": 601,
   "metadata": {},
   "outputs": [
    {
     "data": {
      "text/plain": [
       "Released           44690\n",
       "Rumored              226\n",
       "Post Production       98\n",
       "NaN                   66\n",
       "In Production         20\n",
       "Planned               15\n",
       "Canceled               2\n",
       "Name: status, dtype: int64"
      ]
     },
     "execution_count": 601,
     "metadata": {},
     "output_type": "execute_result"
    }
   ],
   "source": [
    "data.status.value_counts(dropna=False)"
   ]
  },
  {
   "cell_type": "code",
   "execution_count": 602,
   "metadata": {},
   "outputs": [],
   "source": [
    "data = data.loc[data.status==\"Released\"].copy()"
   ]
  },
  {
   "cell_type": "code",
   "execution_count": 603,
   "metadata": {},
   "outputs": [],
   "source": [
    "data.drop(columns='status',inplace=True)"
   ]
  },
  {
   "cell_type": "code",
   "execution_count": 604,
   "metadata": {},
   "outputs": [
    {
     "name": "stdout",
     "output_type": "stream",
     "text": [
      "<class 'pandas.core.frame.DataFrame'>\n",
      "Int64Index: 44690 entries, 0 to 45433\n",
      "Data columns (total 18 columns):\n",
      " #   Column                 Non-Null Count  Dtype         \n",
      "---  ------                 --------------  -----         \n",
      " 0   belongs_to_collection  4463 non-null   object        \n",
      " 1   budget_musd            8854 non-null   float64       \n",
      " 2   genres                 42586 non-null  object        \n",
      " 3   id                     44690 non-null  float64       \n",
      " 4   original_language      44680 non-null  object        \n",
      " 5   overview               43737 non-null  object        \n",
      " 6   popularity             44690 non-null  float64       \n",
      " 7   poster_path            44466 non-null  object        \n",
      " 8   production_companies   33356 non-null  object        \n",
      " 9   production_countries   38835 non-null  object        \n",
      " 10  release_date           44657 non-null  datetime64[ns]\n",
      " 11  revenue_musd           7385 non-null   float64       \n",
      " 12  runtime                43178 non-null  float64       \n",
      " 13  spoken_languages       41094 non-null  object        \n",
      " 14  tagline                20284 non-null  object        \n",
      " 15  title                  44690 non-null  object        \n",
      " 16  vote_average           41989 non-null  float64       \n",
      " 17  vote_count             44690 non-null  float64       \n",
      "dtypes: datetime64[ns](1), float64(7), object(10)\n",
      "memory usage: 6.5+ MB\n"
     ]
    }
   ],
   "source": [
    "data.info()"
   ]
  },
  {
   "cell_type": "markdown",
   "metadata": {},
   "source": [
    "20. The Order of the columns should be as follows: "
   ]
  },
  {
   "cell_type": "code",
   "execution_count": 605,
   "metadata": {},
   "outputs": [],
   "source": [
    "ordered_columns=[\"id\", \"title\", \"tagline\", \"release_date\", \"genres\", \"belongs_to_collection\", \n",
    "\"original_language\", \"budget_musd\", \"revenue_musd\", \"production_companies\",\n",
    "\"production_countries\", \"vote_count\", \"vote_average\", \"popularity\", \"runtime\",\n",
    "\"overview\", \"spoken_languages\", \"poster_path\"]"
   ]
  },
  {
   "cell_type": "code",
   "execution_count": 606,
   "metadata": {},
   "outputs": [],
   "source": [
    "data = data.loc[:,ordered_columns]"
   ]
  },
  {
   "cell_type": "code",
   "execution_count": 607,
   "metadata": {},
   "outputs": [
    {
     "name": "stdout",
     "output_type": "stream",
     "text": [
      "<class 'pandas.core.frame.DataFrame'>\n",
      "Int64Index: 44690 entries, 0 to 45433\n",
      "Data columns (total 18 columns):\n",
      " #   Column                 Non-Null Count  Dtype         \n",
      "---  ------                 --------------  -----         \n",
      " 0   id                     44690 non-null  float64       \n",
      " 1   title                  44690 non-null  object        \n",
      " 2   tagline                20284 non-null  object        \n",
      " 3   release_date           44657 non-null  datetime64[ns]\n",
      " 4   genres                 42586 non-null  object        \n",
      " 5   belongs_to_collection  4463 non-null   object        \n",
      " 6   original_language      44680 non-null  object        \n",
      " 7   budget_musd            8854 non-null   float64       \n",
      " 8   revenue_musd           7385 non-null   float64       \n",
      " 9   production_companies   33356 non-null  object        \n",
      " 10  production_countries   38835 non-null  object        \n",
      " 11  vote_count             44690 non-null  float64       \n",
      " 12  vote_average           41989 non-null  float64       \n",
      " 13  popularity             44690 non-null  float64       \n",
      " 14  runtime                43178 non-null  float64       \n",
      " 15  overview               43737 non-null  object        \n",
      " 16  spoken_languages       41094 non-null  object        \n",
      " 17  poster_path            44466 non-null  object        \n",
      "dtypes: datetime64[ns](1), float64(7), object(10)\n",
      "memory usage: 6.5+ MB\n"
     ]
    }
   ],
   "source": [
    "data.info()"
   ]
  },
  {
   "cell_type": "markdown",
   "metadata": {},
   "source": [
    "21. __Reset__ the Index and create a __RangeIndex__."
   ]
  },
  {
   "cell_type": "code",
   "execution_count": 610,
   "metadata": {},
   "outputs": [],
   "source": [
    "data.reset_index(drop=True,inplace=True)"
   ]
  },
  {
   "cell_type": "code",
   "execution_count": 624,
   "metadata": {},
   "outputs": [],
   "source": [
    " data.poster_path =  (\"http://image.tmdb.org/t/p/w185\"+data.poster_path)"
   ]
  },
  {
   "cell_type": "code",
   "execution_count": 626,
   "metadata": {},
   "outputs": [
    {
     "data": {
      "text/html": [
       "<div>\n",
       "<style scoped>\n",
       "    .dataframe tbody tr th:only-of-type {\n",
       "        vertical-align: middle;\n",
       "    }\n",
       "\n",
       "    .dataframe tbody tr th {\n",
       "        vertical-align: top;\n",
       "    }\n",
       "\n",
       "    .dataframe thead th {\n",
       "        text-align: right;\n",
       "    }\n",
       "</style>\n",
       "<table border=\"1\" class=\"dataframe\">\n",
       "  <thead>\n",
       "    <tr style=\"text-align: right;\">\n",
       "      <th></th>\n",
       "      <th>id</th>\n",
       "      <th>title</th>\n",
       "      <th>tagline</th>\n",
       "      <th>release_date</th>\n",
       "      <th>genres</th>\n",
       "      <th>belongs_to_collection</th>\n",
       "      <th>original_language</th>\n",
       "      <th>budget_musd</th>\n",
       "      <th>revenue_musd</th>\n",
       "      <th>production_companies</th>\n",
       "      <th>production_countries</th>\n",
       "      <th>vote_count</th>\n",
       "      <th>vote_average</th>\n",
       "      <th>popularity</th>\n",
       "      <th>runtime</th>\n",
       "      <th>overview</th>\n",
       "      <th>spoken_languages</th>\n",
       "      <th>poster_path</th>\n",
       "    </tr>\n",
       "  </thead>\n",
       "  <tbody>\n",
       "    <tr>\n",
       "      <th>0</th>\n",
       "      <td>862.0</td>\n",
       "      <td>Toy Story</td>\n",
       "      <td>NaN</td>\n",
       "      <td>1995-10-30</td>\n",
       "      <td>Animation|Comedy|Family</td>\n",
       "      <td>Toy Story Collection</td>\n",
       "      <td>en</td>\n",
       "      <td>30.0</td>\n",
       "      <td>373.554033</td>\n",
       "      <td>Pixar Animation Studios</td>\n",
       "      <td>United States of America</td>\n",
       "      <td>5415.0</td>\n",
       "      <td>7.7</td>\n",
       "      <td>21.946943</td>\n",
       "      <td>81.0</td>\n",
       "      <td>Led by Woody, Andy's toys live happily in his ...</td>\n",
       "      <td>English</td>\n",
       "      <td>http://image.tmdb.org/t/p/w185/rhIRbceoE9lR4ve...</td>\n",
       "    </tr>\n",
       "    <tr>\n",
       "      <th>1</th>\n",
       "      <td>8844.0</td>\n",
       "      <td>Jumanji</td>\n",
       "      <td>Roll the dice and unleash the excitement!</td>\n",
       "      <td>1995-12-15</td>\n",
       "      <td>Adventure|Fantasy|Family</td>\n",
       "      <td>NaN</td>\n",
       "      <td>en</td>\n",
       "      <td>65.0</td>\n",
       "      <td>262.797249</td>\n",
       "      <td>TriStar Pictures|Teitler Film|Interscope Commu...</td>\n",
       "      <td>United States of America</td>\n",
       "      <td>2413.0</td>\n",
       "      <td>6.9</td>\n",
       "      <td>17.015539</td>\n",
       "      <td>104.0</td>\n",
       "      <td>When siblings Judy and Peter discover an encha...</td>\n",
       "      <td>English|Français</td>\n",
       "      <td>http://image.tmdb.org/t/p/w185/vzmL6fP7aPKNKPR...</td>\n",
       "    </tr>\n",
       "    <tr>\n",
       "      <th>2</th>\n",
       "      <td>15602.0</td>\n",
       "      <td>Grumpier Old Men</td>\n",
       "      <td>Still Yelling. Still Fighting. Still Ready for...</td>\n",
       "      <td>1995-12-22</td>\n",
       "      <td>Romance|Comedy</td>\n",
       "      <td>Grumpy Old Men Collection</td>\n",
       "      <td>en</td>\n",
       "      <td>NaN</td>\n",
       "      <td>NaN</td>\n",
       "      <td>Warner Bros.|Lancaster Gate</td>\n",
       "      <td>United States of America</td>\n",
       "      <td>92.0</td>\n",
       "      <td>6.5</td>\n",
       "      <td>11.712900</td>\n",
       "      <td>101.0</td>\n",
       "      <td>A family wedding reignites the ancient feud be...</td>\n",
       "      <td>English</td>\n",
       "      <td>http://image.tmdb.org/t/p/w185/6ksm1sjKMFLbO7U...</td>\n",
       "    </tr>\n",
       "    <tr>\n",
       "      <th>3</th>\n",
       "      <td>31357.0</td>\n",
       "      <td>Waiting to Exhale</td>\n",
       "      <td>Friends are the people who let you be yourself...</td>\n",
       "      <td>1995-12-22</td>\n",
       "      <td>Comedy|Drama|Romance</td>\n",
       "      <td>NaN</td>\n",
       "      <td>en</td>\n",
       "      <td>16.0</td>\n",
       "      <td>81.452156</td>\n",
       "      <td>Twentieth Century Fox Film Corporation</td>\n",
       "      <td>United States of America</td>\n",
       "      <td>34.0</td>\n",
       "      <td>6.1</td>\n",
       "      <td>3.859495</td>\n",
       "      <td>127.0</td>\n",
       "      <td>Cheated on, mistreated and stepped on, the wom...</td>\n",
       "      <td>English</td>\n",
       "      <td>http://image.tmdb.org/t/p/w185/16XOMpEaLWkrcPq...</td>\n",
       "    </tr>\n",
       "    <tr>\n",
       "      <th>4</th>\n",
       "      <td>11862.0</td>\n",
       "      <td>Father of the Bride Part II</td>\n",
       "      <td>Just When His World Is Back To Normal... He's ...</td>\n",
       "      <td>1995-02-10</td>\n",
       "      <td>Comedy</td>\n",
       "      <td>Father of the Bride Collection</td>\n",
       "      <td>en</td>\n",
       "      <td>NaN</td>\n",
       "      <td>76.578911</td>\n",
       "      <td>Sandollar Productions|Touchstone Pictures</td>\n",
       "      <td>United States of America</td>\n",
       "      <td>173.0</td>\n",
       "      <td>5.7</td>\n",
       "      <td>8.387519</td>\n",
       "      <td>106.0</td>\n",
       "      <td>Just when George Banks has recovered from his ...</td>\n",
       "      <td>English</td>\n",
       "      <td>http://image.tmdb.org/t/p/w185/e64sOI48hQXyru7...</td>\n",
       "    </tr>\n",
       "  </tbody>\n",
       "</table>\n",
       "</div>"
      ],
      "text/plain": [
       "        id                        title  \\\n",
       "0    862.0                    Toy Story   \n",
       "1   8844.0                      Jumanji   \n",
       "2  15602.0             Grumpier Old Men   \n",
       "3  31357.0            Waiting to Exhale   \n",
       "4  11862.0  Father of the Bride Part II   \n",
       "\n",
       "                                             tagline release_date  \\\n",
       "0                                                NaN   1995-10-30   \n",
       "1          Roll the dice and unleash the excitement!   1995-12-15   \n",
       "2  Still Yelling. Still Fighting. Still Ready for...   1995-12-22   \n",
       "3  Friends are the people who let you be yourself...   1995-12-22   \n",
       "4  Just When His World Is Back To Normal... He's ...   1995-02-10   \n",
       "\n",
       "                     genres           belongs_to_collection original_language  \\\n",
       "0   Animation|Comedy|Family            Toy Story Collection                en   \n",
       "1  Adventure|Fantasy|Family                             NaN                en   \n",
       "2            Romance|Comedy       Grumpy Old Men Collection                en   \n",
       "3      Comedy|Drama|Romance                             NaN                en   \n",
       "4                    Comedy  Father of the Bride Collection                en   \n",
       "\n",
       "   budget_musd  revenue_musd  \\\n",
       "0         30.0    373.554033   \n",
       "1         65.0    262.797249   \n",
       "2          NaN           NaN   \n",
       "3         16.0     81.452156   \n",
       "4          NaN     76.578911   \n",
       "\n",
       "                                production_companies  \\\n",
       "0                            Pixar Animation Studios   \n",
       "1  TriStar Pictures|Teitler Film|Interscope Commu...   \n",
       "2                        Warner Bros.|Lancaster Gate   \n",
       "3             Twentieth Century Fox Film Corporation   \n",
       "4          Sandollar Productions|Touchstone Pictures   \n",
       "\n",
       "       production_countries  vote_count  vote_average  popularity  runtime  \\\n",
       "0  United States of America      5415.0           7.7   21.946943     81.0   \n",
       "1  United States of America      2413.0           6.9   17.015539    104.0   \n",
       "2  United States of America        92.0           6.5   11.712900    101.0   \n",
       "3  United States of America        34.0           6.1    3.859495    127.0   \n",
       "4  United States of America       173.0           5.7    8.387519    106.0   \n",
       "\n",
       "                                            overview  spoken_languages  \\\n",
       "0  Led by Woody, Andy's toys live happily in his ...           English   \n",
       "1  When siblings Judy and Peter discover an encha...  English|Français   \n",
       "2  A family wedding reignites the ancient feud be...           English   \n",
       "3  Cheated on, mistreated and stepped on, the wom...           English   \n",
       "4  Just when George Banks has recovered from his ...           English   \n",
       "\n",
       "                                         poster_path  \n",
       "0  http://image.tmdb.org/t/p/w185/rhIRbceoE9lR4ve...  \n",
       "1  http://image.tmdb.org/t/p/w185/vzmL6fP7aPKNKPR...  \n",
       "2  http://image.tmdb.org/t/p/w185/6ksm1sjKMFLbO7U...  \n",
       "3  http://image.tmdb.org/t/p/w185/16XOMpEaLWkrcPq...  \n",
       "4  http://image.tmdb.org/t/p/w185/e64sOI48hQXyru7...  "
      ]
     },
     "execution_count": 626,
     "metadata": {},
     "output_type": "execute_result"
    }
   ],
   "source": [
    "data.head()"
   ]
  },
  {
   "cell_type": "markdown",
   "metadata": {},
   "source": [
    "22. __Save__ the cleaned dataset in a __csv-file__."
   ]
  },
  {
   "cell_type": "code",
   "execution_count": 627,
   "metadata": {},
   "outputs": [],
   "source": [
    "data.to_csv(\"movies_clean.csv\",index=False)"
   ]
  },
  {
   "cell_type": "code",
   "execution_count": 629,
   "metadata": {},
   "outputs": [
    {
     "name": "stdout",
     "output_type": "stream",
     "text": [
      "<class 'pandas.core.frame.DataFrame'>\n",
      "RangeIndex: 44690 entries, 0 to 44689\n",
      "Data columns (total 18 columns):\n",
      " #   Column                 Non-Null Count  Dtype  \n",
      "---  ------                 --------------  -----  \n",
      " 0   id                     44690 non-null  float64\n",
      " 1   title                  44690 non-null  object \n",
      " 2   tagline                20284 non-null  object \n",
      " 3   release_date           44657 non-null  object \n",
      " 4   genres                 42586 non-null  object \n",
      " 5   belongs_to_collection  4463 non-null   object \n",
      " 6   original_language      44680 non-null  object \n",
      " 7   budget_musd            8854 non-null   float64\n",
      " 8   revenue_musd           7385 non-null   float64\n",
      " 9   production_companies   33356 non-null  object \n",
      " 10  production_countries   38835 non-null  object \n",
      " 11  vote_count             44690 non-null  float64\n",
      " 12  vote_average           41989 non-null  float64\n",
      " 13  popularity             44690 non-null  float64\n",
      " 14  runtime                43178 non-null  float64\n",
      " 15  overview               43737 non-null  object \n",
      " 16  spoken_languages       41094 non-null  object \n",
      " 17  poster_path            44466 non-null  object \n",
      "dtypes: float64(7), object(11)\n",
      "memory usage: 6.1+ MB\n"
     ]
    }
   ],
   "source": [
    "pd.read_csv(\"movies_clean.csv\").info()"
   ]
  }
 ],
 "metadata": {
  "kernelspec": {
   "display_name": "Python 3 (ipykernel)",
   "language": "python",
   "name": "python3"
  },
  "language_info": {
   "codemirror_mode": {
    "name": "ipython",
    "version": 3
   },
   "file_extension": ".py",
   "mimetype": "text/x-python",
   "name": "python",
   "nbconvert_exporter": "python",
   "pygments_lexer": "ipython3",
   "version": "3.10.9"
  }
 },
 "nbformat": 4,
 "nbformat_minor": 2
}
